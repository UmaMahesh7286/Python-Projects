{
 "cells": [
  {
   "cell_type": "code",
   "execution_count": 6,
   "id": "e8be7f96",
   "metadata": {},
   "outputs": [
    {
     "name": "stdout",
     "output_type": "stream",
     "text": [
      "0 1 1 2 3 5 8 13 21 34 "
     ]
    }
   ],
   "source": [
    "a=8\n",
    "i=0\n",
    "m=0\n",
    "n=1\n",
    "print(m,n,end=\" \")\n",
    "while(i<a):\n",
    "    o=m+n\n",
    "    m=n\n",
    "    n=o\n",
    "    print(o,end=\" \")\n",
    "    i+=1"
   ]
  },
  {
   "cell_type": "code",
   "execution_count": 42,
   "id": "7aa3af5f",
   "metadata": {},
   "outputs": [
    {
     "name": "stdout",
     "output_type": "stream",
     "text": [
      "prime 2\n"
     ]
    }
   ],
   "source": [
    "n=2\n",
    "for i in range(2,n):\n",
    "    b=True\n",
    "    if(n%i==0):\n",
    "        b=False\n",
    "        break\n",
    "if(b):\n",
    "    print(\"prime\",n)\n",
    "else:\n",
    "    print(\"not prime\",n)"
   ]
  },
  {
   "cell_type": "code",
   "execution_count": null,
   "id": "73e8d895",
   "metadata": {},
   "outputs": [],
   "source": []
  },
  {
   "cell_type": "code",
   "execution_count": 69,
   "id": "ed3588b5",
   "metadata": {},
   "outputs": [
    {
     "name": "stdout",
     "output_type": "stream",
     "text": [
      "enter the no of prime number requires:-10\n",
      "prime 2\n",
      "prime 3\n",
      "prime 5\n",
      "prime 7\n",
      "prime 11\n"
     ]
    }
   ],
   "source": [
    "class Prime:\n",
    "    def primecheck(self,val):\n",
    "        bo=True\n",
    "        for i in range(2,val):\n",
    "            if(val%i==0):\n",
    "                bo=False\n",
    "                break\n",
    "        if(bo):\n",
    "            print(\"prime\",val)\n",
    "p=Prime()\n",
    "q=0\n",
    "s=int(input(\"enter the no of prime number requires:-\"))\n",
    "v=2\n",
    "while(q<s):\n",
    "    p.primecheck(v)\n",
    "    q+=1\n",
    "    v+=1"
   ]
  },
  {
   "cell_type": "code",
   "execution_count": null,
   "id": "e2ba5a02",
   "metadata": {},
   "outputs": [],
   "source": []
  },
  {
   "cell_type": "code",
   "execution_count": null,
   "id": "1dcc7578",
   "metadata": {},
   "outputs": [],
   "source": []
  }
 ],
 "metadata": {
  "kernelspec": {
   "display_name": "Python 3 (ipykernel)",
   "language": "python",
   "name": "python3"
  },
  "language_info": {
   "codemirror_mode": {
    "name": "ipython",
    "version": 3
   },
   "file_extension": ".py",
   "mimetype": "text/x-python",
   "name": "python",
   "nbconvert_exporter": "python",
   "pygments_lexer": "ipython3",
   "version": "3.10.7"
  }
 },
 "nbformat": 4,
 "nbformat_minor": 5
}
