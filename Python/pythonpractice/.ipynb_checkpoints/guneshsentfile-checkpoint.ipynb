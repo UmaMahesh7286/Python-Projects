{
 "cells": [
  {
   "cell_type": "code",
   "execution_count": 1,
   "id": "49072cff",
   "metadata": {},
   "outputs": [
    {
     "data": {
      "text/plain": [
       "['False',\n",
       " 'None',\n",
       " 'True',\n",
       " 'and',\n",
       " 'as',\n",
       " 'assert',\n",
       " 'async',\n",
       " 'await',\n",
       " 'break',\n",
       " 'class',\n",
       " 'continue',\n",
       " 'def',\n",
       " 'del',\n",
       " 'elif',\n",
       " 'else',\n",
       " 'except',\n",
       " 'finally',\n",
       " 'for',\n",
       " 'from',\n",
       " 'global',\n",
       " 'if',\n",
       " 'import',\n",
       " 'in',\n",
       " 'is',\n",
       " 'lambda',\n",
       " 'nonlocal',\n",
       " 'not',\n",
       " 'or',\n",
       " 'pass',\n",
       " 'raise',\n",
       " 'return',\n",
       " 'try',\n",
       " 'while',\n",
       " 'with',\n",
       " 'yield']"
      ]
     },
     "execution_count": 1,
     "metadata": {},
     "output_type": "execute_result"
    }
   ],
   "source": [
    "import keyword\n",
    "keyword.kwlist"
   ]
  },
  {
   "cell_type": "code",
   "execution_count": 4,
   "id": "02f8e32a",
   "metadata": {},
   "outputs": [
    {
     "name": "stdout",
     "output_type": "stream",
     "text": [
      "0o767\n"
     ]
    }
   ],
   "source": [
    "a=503\n",
    "print(oct(a))"
   ]
  },
  {
   "cell_type": "code",
   "execution_count": 4,
   "id": "13e7a753",
   "metadata": {},
   "outputs": [
    {
     "data": {
      "text/plain": [
       "'0x18'"
      ]
     },
     "execution_count": 4,
     "metadata": {},
     "output_type": "execute_result"
    }
   ],
   "source": [
    "a=24\n",
    "hex(a)"
   ]
  },
  {
   "cell_type": "code",
   "execution_count": 5,
   "id": "f6e5aaff",
   "metadata": {},
   "outputs": [
    {
     "data": {
      "text/plain": [
       "float"
      ]
     },
     "execution_count": 5,
     "metadata": {},
     "output_type": "execute_result"
    }
   ],
   "source": [
    "b=11.34\n",
    "type(b)"
   ]
  },
  {
   "cell_type": "raw",
   "id": "3d8d01b5",
   "metadata": {},
   "source": [
    "v=True + False\n",
    "print(v)"
   ]
  },
  {
   "cell_type": "markdown",
   "id": "c25d230d",
   "metadata": {},
   "source": [
    "a=True+True\n",
    "print(a)"
   ]
  },
  {
   "cell_type": "code",
   "execution_count": 6,
   "id": "6815633c",
   "metadata": {},
   "outputs": [
    {
     "data": {
      "text/plain": [
       "str"
      ]
     },
     "execution_count": 6,
     "metadata": {},
     "output_type": "execute_result"
    }
   ],
   "source": [
    "a='d'\n",
    "type(a)"
   ]
  },
  {
   "cell_type": "code",
   "execution_count": 7,
   "id": "3ba75719",
   "metadata": {},
   "outputs": [
    {
     "name": "stdout",
     "output_type": "stream",
     "text": [
      "say hi's\n"
     ]
    }
   ],
   "source": [
    "name=\"say hi's\"\n",
    "print(name)"
   ]
  },
  {
   "cell_type": "code",
   "execution_count": 8,
   "id": "e58fcef2",
   "metadata": {},
   "outputs": [
    {
     "data": {
      "text/plain": [
       "complex"
      ]
     },
     "execution_count": 8,
     "metadata": {},
     "output_type": "execute_result"
    }
   ],
   "source": [
    "a=5+10j\n",
    "type(a)"
   ]
  },
  {
   "cell_type": "code",
   "execution_count": 9,
   "id": "03c50ee0",
   "metadata": {},
   "outputs": [
    {
     "name": "stdout",
     "output_type": "stream",
     "text": [
      "10\n"
     ]
    }
   ],
   "source": [
    "a=10\n",
    "print(a)"
   ]
  },
  {
   "cell_type": "code",
   "execution_count": 10,
   "id": "f3292e9a",
   "metadata": {},
   "outputs": [
    {
     "data": {
      "text/plain": [
       "10.0"
      ]
     },
     "execution_count": 10,
     "metadata": {},
     "output_type": "execute_result"
    }
   ],
   "source": [
    "a=10\n",
    "float(a)\n"
   ]
  },
  {
   "cell_type": "code",
   "execution_count": 7,
   "id": "33da2b97",
   "metadata": {},
   "outputs": [
    {
     "name": "stdout",
     "output_type": "stream",
     "text": [
      "10\n",
      "1\n",
      "10\n"
     ]
    }
   ],
   "source": [
    "a=10.5\n",
    "b=True\n",
    "c=\"10\"\n",
    "d=\"hello\"\n",
    "print(int(a))\n",
    "print(int(b))\n",
    "print(int(c))\n",
    "# print(int(d))"
   ]
  },
  {
   "cell_type": "markdown",
   "id": "d0dcfdfa",
   "metadata": {},
   "source": [
    "# Converting to bool\n"
   ]
  },
  {
   "cell_type": "code",
   "execution_count": 14,
   "id": "2cf81175",
   "metadata": {},
   "outputs": [
    {
     "name": "stdout",
     "output_type": "stream",
     "text": [
      "True\n",
      "True\n",
      "True\n",
      "True\n",
      "True\n",
      "False\n"
     ]
    }
   ],
   "source": [
    "a=10\n",
    "b=10.5\n",
    "c=\"Hi\"\n",
    "d=\"20\"\n",
    "e=True\n",
    "f=0\n",
    "print(bool(a))\n",
    "print(bool(b))\n",
    "print(bool(c))\n",
    "print(bool(d))\n",
    "print(bool(e))\n",
    "print(bool(f))"
   ]
  },
  {
   "cell_type": "markdown",
   "id": "c09d8c5c",
   "metadata": {},
   "source": [
    "#  List"
   ]
  },
  {
   "cell_type": "code",
   "execution_count": 15,
   "id": "1e06d1c9",
   "metadata": {},
   "outputs": [
    {
     "name": "stdout",
     "output_type": "stream",
     "text": [
      "[1, 2, 3, 4, 4, 6]\n"
     ]
    },
    {
     "data": {
      "text/plain": [
       "list"
      ]
     },
     "execution_count": 15,
     "metadata": {},
     "output_type": "execute_result"
    }
   ],
   "source": [
    "std_marks=[1,2,3,4,4,6]\n",
    "print(std_marks)\n",
    "type(std_marks)"
   ]
  },
  {
   "cell_type": "code",
   "execution_count": 16,
   "id": "b22fbb4c",
   "metadata": {},
   "outputs": [
    {
     "data": {
      "text/plain": [
       "1"
      ]
     },
     "execution_count": 16,
     "metadata": {},
     "output_type": "execute_result"
    }
   ],
   "source": [
    "std_marks[0]"
   ]
  },
  {
   "cell_type": "code",
   "execution_count": 17,
   "id": "6e514ecc",
   "metadata": {},
   "outputs": [
    {
     "data": {
      "text/plain": [
       "1"
      ]
     },
     "execution_count": 17,
     "metadata": {},
     "output_type": "execute_result"
    }
   ],
   "source": [
    "std_marks[-0]"
   ]
  },
  {
   "cell_type": "code",
   "execution_count": 18,
   "id": "d1295a5a",
   "metadata": {},
   "outputs": [
    {
     "data": {
      "text/plain": [
       "6"
      ]
     },
     "execution_count": 18,
     "metadata": {},
     "output_type": "execute_result"
    }
   ],
   "source": [
    "std_marks[-1]"
   ]
  },
  {
   "cell_type": "code",
   "execution_count": 19,
   "id": "35b5ee87",
   "metadata": {},
   "outputs": [
    {
     "data": {
      "text/plain": [
       "3"
      ]
     },
     "execution_count": 19,
     "metadata": {},
     "output_type": "execute_result"
    }
   ],
   "source": [
    "std_marks[-4]"
   ]
  },
  {
   "cell_type": "code",
   "execution_count": 20,
   "id": "65b5a75f",
   "metadata": {},
   "outputs": [],
   "source": [
    "# printing homogenous elements\n"
   ]
  },
  {
   "cell_type": "code",
   "execution_count": 21,
   "id": "59791ba8",
   "metadata": {},
   "outputs": [
    {
     "name": "stdout",
     "output_type": "stream",
     "text": [
      "[10, 'C', 'Hello', 12.6]\n"
     ]
    }
   ],
   "source": [
    "info=[10,'C',\"Hello\",12.6]\n",
    "print(info)"
   ]
  },
  {
   "cell_type": "code",
   "execution_count": 22,
   "id": "f5fb8ffc",
   "metadata": {},
   "outputs": [
    {
     "name": "stdout",
     "output_type": "stream",
     "text": [
      "marks before [56, 87, 9, 23]\n",
      "marks after [56, 87, 'Hello', 23]\n"
     ]
    }
   ],
   "source": [
    "marks=[56,87,9,23]\n",
    "print(\"marks before\",marks)\n",
    "marks[2]=\"Hello\"\n",
    "print(\"marks after\",marks)"
   ]
  },
  {
   "cell_type": "code",
   "execution_count": 23,
   "id": "763381cb",
   "metadata": {},
   "outputs": [],
   "source": [
    "marks.append(34)"
   ]
  },
  {
   "cell_type": "code",
   "execution_count": 24,
   "id": "7cbc6649",
   "metadata": {},
   "outputs": [
    {
     "name": "stdout",
     "output_type": "stream",
     "text": [
      "[56, 87, 'Hello', 23, 34]\n"
     ]
    }
   ],
   "source": [
    "print(marks)"
   ]
  },
  {
   "cell_type": "code",
   "execution_count": 37,
   "id": "791967c1",
   "metadata": {},
   "outputs": [
    {
     "ename": "ValueError",
     "evalue": "list.remove(x): x not in list",
     "output_type": "error",
     "traceback": [
      "\u001b[1;31m---------------------------------------------------------------------------\u001b[0m",
      "\u001b[1;31mValueError\u001b[0m                                Traceback (most recent call last)",
      "Cell \u001b[1;32mIn[37], line 1\u001b[0m\n\u001b[1;32m----> 1\u001b[0m \u001b[43mmarks\u001b[49m\u001b[38;5;241;43m.\u001b[39;49m\u001b[43mremove\u001b[49m\u001b[43m(\u001b[49m\u001b[38;5;124;43m'\u001b[39;49m\u001b[38;5;124;43mHello\u001b[39;49m\u001b[38;5;124;43m'\u001b[39;49m\u001b[43m)\u001b[49m\n\u001b[0;32m      2\u001b[0m \u001b[38;5;28mprint\u001b[39m(marks)\n",
      "\u001b[1;31mValueError\u001b[0m: list.remove(x): x not in list"
     ]
    }
   ],
   "source": [
    "marks.remove('Hello')\n",
    "print(marks)"
   ]
  },
  {
   "cell_type": "markdown",
   "id": "9d3e1984",
   "metadata": {},
   "source": [
    "#  Tuple"
   ]
  },
  {
   "cell_type": "code",
   "execution_count": 28,
   "id": "8a866c2e",
   "metadata": {},
   "outputs": [
    {
     "name": "stdout",
     "output_type": "stream",
     "text": [
      "(1, 'Patrik', 22)\n"
     ]
    }
   ],
   "source": [
    "student=(1,'Patrik',22)\n",
    "print(student)"
   ]
  },
  {
   "cell_type": "markdown",
   "id": "f416826f",
   "metadata": {},
   "source": [
    "#  Set"
   ]
  },
  {
   "cell_type": "code",
   "execution_count": 29,
   "id": "d53f93fa",
   "metadata": {},
   "outputs": [
    {
     "name": "stdout",
     "output_type": "stream",
     "text": [
      "{1, 3, 4, 5, 6}\n"
     ]
    }
   ],
   "source": [
    "std_id={1,3,4,5,6}\n",
    "print(std_id)"
   ]
  },
  {
   "cell_type": "code",
   "execution_count": 31,
   "id": "a919a0fd",
   "metadata": {},
   "outputs": [
    {
     "data": {
      "text/plain": [
       "{1, 3, 4, 5, 6}"
      ]
     },
     "execution_count": 31,
     "metadata": {},
     "output_type": "execute_result"
    }
   ],
   "source": [
    "std_id"
   ]
  },
  {
   "cell_type": "code",
   "execution_count": 9,
   "id": "662acb52",
   "metadata": {},
   "outputs": [
    {
     "name": "stdout",
     "output_type": "stream",
     "text": [
      "{1, 3, 4, 5, 6, 11}\n"
     ]
    }
   ],
   "source": [
    "std_id={1,11, 3, 4, 5, 6,6,1}\n",
    "print(std_id)"
   ]
  },
  {
   "cell_type": "code",
   "execution_count": 10,
   "id": "643092cd",
   "metadata": {},
   "outputs": [
    {
     "data": {
      "text/plain": [
       "{1, 3, 4, 5, 6, 9, 11}"
      ]
     },
     "execution_count": 10,
     "metadata": {},
     "output_type": "execute_result"
    }
   ],
   "source": [
    "std_id.add(9)\n",
    "std_id"
   ]
  },
  {
   "cell_type": "code",
   "execution_count": 12,
   "id": "a779a7a1",
   "metadata": {},
   "outputs": [
    {
     "data": {
      "text/plain": [
       "{1, 11, 3, 4, 5, 6, 9, 'hello'}"
      ]
     },
     "execution_count": 12,
     "metadata": {},
     "output_type": "execute_result"
    }
   ],
   "source": [
    "std_id.add('hello')\n",
    "std_id"
   ]
  },
  {
   "cell_type": "code",
   "execution_count": 13,
   "id": "62e0cc27",
   "metadata": {},
   "outputs": [
    {
     "name": "stdout",
     "output_type": "stream",
     "text": [
      "{1, 3, 5, 6, 9, 11, 'hello'}\n"
     ]
    }
   ],
   "source": [
    "std_id.remove(4)\n",
    "std_id\n",
    "print(std_id)"
   ]
  },
  {
   "cell_type": "markdown",
   "id": "90c20d4b",
   "metadata": {},
   "source": [
    "#  Dictionary\n"
   ]
  },
  {
   "cell_type": "code",
   "execution_count": 15,
   "id": "0d462f82",
   "metadata": {},
   "outputs": [
    {
     "name": "stdout",
     "output_type": "stream",
     "text": [
      "{'name': 'patrik', 'age': 22, 'gender': 'm'}\n"
     ]
    },
    {
     "data": {
      "text/plain": [
       "dict"
      ]
     },
     "execution_count": 15,
     "metadata": {},
     "output_type": "execute_result"
    }
   ],
   "source": [
    "student={'name':'patrik','age':22,'gender':'m'}\n",
    "print(student)\n",
    "type(student)"
   ]
  },
  {
   "cell_type": "code",
   "execution_count": 16,
   "id": "9192f837",
   "metadata": {},
   "outputs": [
    {
     "data": {
      "text/plain": [
       "'patrik'"
      ]
     },
     "execution_count": 16,
     "metadata": {},
     "output_type": "execute_result"
    }
   ],
   "source": [
    "student['name']"
   ]
  },
  {
   "cell_type": "code",
   "execution_count": 40,
   "id": "4c485a7d",
   "metadata": {},
   "outputs": [
    {
     "data": {
      "text/plain": [
       "'patrik'"
      ]
     },
     "execution_count": 40,
     "metadata": {},
     "output_type": "execute_result"
    }
   ],
   "source": [
    "student[\"name\"]"
   ]
  },
  {
   "cell_type": "code",
   "execution_count": 17,
   "id": "5884ed4d",
   "metadata": {},
   "outputs": [
    {
     "data": {
      "text/plain": [
       "22"
      ]
     },
     "execution_count": 17,
     "metadata": {},
     "output_type": "execute_result"
    }
   ],
   "source": [
    "student['age']"
   ]
  },
  {
   "cell_type": "code",
   "execution_count": 18,
   "id": "acaf56fb",
   "metadata": {},
   "outputs": [
    {
     "data": {
      "text/plain": [
       "int"
      ]
     },
     "execution_count": 18,
     "metadata": {},
     "output_type": "execute_result"
    }
   ],
   "source": [
    "type(student['age'])"
   ]
  },
  {
   "cell_type": "code",
   "execution_count": 20,
   "id": "40a9dd7b",
   "metadata": {},
   "outputs": [
    {
     "name": "stdout",
     "output_type": "stream",
     "text": [
      "<class 'str'>\n",
      "<class 'int'>\n"
     ]
    }
   ],
   "source": [
    "print(type(student['name']))\n",
    "print(type(student['age']))"
   ]
  },
  {
   "cell_type": "code",
   "execution_count": 46,
   "id": "43e947bd",
   "metadata": {},
   "outputs": [
    {
     "data": {
      "text/plain": [
       "{'name': 'ram', 'age': 22, 'id': 1}"
      ]
     },
     "execution_count": 46,
     "metadata": {},
     "output_type": "execute_result"
    }
   ],
   "source": [
    "details={'name':'jhon','name':'ram','age':22,'id':1}\n",
    "# print(details)\n",
    "details"
   ]
  },
  {
   "cell_type": "code",
   "execution_count": 47,
   "id": "0dbeb8b5",
   "metadata": {},
   "outputs": [
    {
     "name": "stdout",
     "output_type": "stream",
     "text": [
      "{'name': 'ram', 'age': 30, 'id': 1}\n"
     ]
    }
   ],
   "source": [
    "details['age']=30\n",
    "print(details)"
   ]
  },
  {
   "cell_type": "code",
   "execution_count": 22,
   "id": "c9778a55",
   "metadata": {},
   "outputs": [
    {
     "name": "stdout",
     "output_type": "stream",
     "text": [
      "{'name': ['dinga', 'dingi', 'hello'], 'age': [22, 34, 56]}\n"
     ]
    }
   ],
   "source": [
    "data={\n",
    "    'name':['dinga','dingi','hello'],\n",
    "    'age':[22,34,56]\n",
    "}\n",
    "print(data)"
   ]
  },
  {
   "cell_type": "code",
   "execution_count": 23,
   "id": "19d296c5",
   "metadata": {},
   "outputs": [
    {
     "data": {
      "text/plain": [
       "{'name': ['dinga', 'dingi', 'Patrik'], 'age': [22, 34, 56]}"
      ]
     },
     "execution_count": 23,
     "metadata": {},
     "output_type": "execute_result"
    }
   ],
   "source": [
    "data['name']=['dinga','dingi','Patrik']\n",
    "data"
   ]
  },
  {
   "cell_type": "markdown",
   "id": "f3784b2f",
   "metadata": {},
   "source": [
    "#  Byte"
   ]
  },
  {
   "cell_type": "code",
   "execution_count": 51,
   "id": "5bcceb11",
   "metadata": {},
   "outputs": [],
   "source": [
    "x=[10,20,30,40]\n",
    "y=bytes(x)"
   ]
  },
  {
   "cell_type": "code",
   "execution_count": 52,
   "id": "44cddf14",
   "metadata": {},
   "outputs": [
    {
     "data": {
      "text/plain": [
       "b'\\n\\x14\\x1e('"
      ]
     },
     "execution_count": 52,
     "metadata": {},
     "output_type": "execute_result"
    }
   ],
   "source": [
    "y"
   ]
  },
  {
   "cell_type": "markdown",
   "id": "55bbc2ca",
   "metadata": {},
   "source": [
    "#  ByteArray"
   ]
  },
  {
   "cell_type": "code",
   "execution_count": 53,
   "id": "a6225ea0",
   "metadata": {},
   "outputs": [],
   "source": [
    "y1=bytearray(x)"
   ]
  },
  {
   "cell_type": "code",
   "execution_count": 54,
   "id": "68e5f8e7",
   "metadata": {},
   "outputs": [
    {
     "data": {
      "text/plain": [
       "bytearray(b'\\n\\x14\\x1e(')"
      ]
     },
     "execution_count": 54,
     "metadata": {},
     "output_type": "execute_result"
    }
   ],
   "source": [
    "y1"
   ]
  },
  {
   "cell_type": "markdown",
   "id": "5236a13f",
   "metadata": {},
   "source": [
    "#  Range"
   ]
  },
  {
   "cell_type": "code",
   "execution_count": 55,
   "id": "c87a83d3",
   "metadata": {},
   "outputs": [
    {
     "data": {
      "text/plain": [
       "range(0, 10)"
      ]
     },
     "execution_count": 55,
     "metadata": {},
     "output_type": "execute_result"
    }
   ],
   "source": [
    "a=range(10)\n",
    "a"
   ]
  },
  {
   "cell_type": "code",
   "execution_count": 56,
   "id": "42d22f8c",
   "metadata": {},
   "outputs": [
    {
     "name": "stdout",
     "output_type": "stream",
     "text": [
      "0\n",
      "1\n",
      "2\n",
      "3\n",
      "4\n",
      "5\n",
      "6\n",
      "7\n",
      "8\n",
      "9\n"
     ]
    }
   ],
   "source": [
    "a=range(10)\n",
    "for i in a:\n",
    "    print(i)"
   ]
  },
  {
   "cell_type": "code",
   "execution_count": 74,
   "id": "7e67b591",
   "metadata": {},
   "outputs": [
    {
     "name": "stdout",
     "output_type": "stream",
     "text": [
      "2\n",
      "4\n",
      "6\n",
      "8\n"
     ]
    }
   ],
   "source": [
    "b=range(2,10,2)\n",
    "for i in b:\n",
    "    print(i)"
   ]
  },
  {
   "cell_type": "code",
   "execution_count": 75,
   "id": "3474ab5b",
   "metadata": {},
   "outputs": [],
   "source": [
    "# WAP to print numbers\n"
   ]
  },
  {
   "cell_type": "code",
   "execution_count": 10,
   "id": "f804ef2f",
   "metadata": {},
   "outputs": [
    {
     "name": "stdout",
     "output_type": "stream",
     "text": [
      "Enter the number :10\n",
      "i 1\n",
      "i 2\n",
      "i 3\n",
      "i 4\n",
      "i 5\n",
      "i 6\n",
      "i 7\n",
      "i 8\n",
      "i 9\n"
     ]
    }
   ],
   "source": [
    "num1=int(input(\"Enter the number :\"))\n",
    "for i in range(1,num1):\n",
    "    print(\"i\",i)"
   ]
  },
  {
   "cell_type": "code",
   "execution_count": 11,
   "id": "695dc8db",
   "metadata": {},
   "outputs": [],
   "source": [
    "# WAP to add two numbers\n"
   ]
  },
  {
   "cell_type": "code",
   "execution_count": 26,
   "id": "9ea971df",
   "metadata": {},
   "outputs": [
    {
     "name": "stdout",
     "output_type": "stream",
     "text": [
      "Enter Numer 1 :3\n",
      "Enter number 2 :4\n",
      "total: 7\n"
     ]
    }
   ],
   "source": [
    "num=int(input(\"Enter Numer 1 :\"))\n",
    "num2=int(input(\"Enter number 2 :\"))\n",
    "print('total:',num+num2)"
   ]
  },
  {
   "cell_type": "code",
   "execution_count": 14,
   "id": "8ce656d6",
   "metadata": {},
   "outputs": [],
   "source": [
    "#WAP to read details and print details\n"
   ]
  },
  {
   "cell_type": "code",
   "execution_count": 15,
   "id": "e1b8b182",
   "metadata": {},
   "outputs": [
    {
     "name": "stdout",
     "output_type": "stream",
     "text": [
      "Enter name:hello\n",
      "Enter gender:m\n",
      "Enter location:loc\n",
      "Name is : hello\n",
      "Gender is: m\n",
      "Location is: loc\n"
     ]
    }
   ],
   "source": [
    "name=input(\"Enter name:\")\n",
    "gender=input(\"Enter gender:\")\n",
    "loc=input(\"Enter location:\")\n",
    "print(\"Name is :\",name)\n",
    "print(\"Gender is:\",gender)\n",
    "print(\"Location is:\",loc)"
   ]
  },
  {
   "cell_type": "code",
   "execution_count": 16,
   "id": "ebabfba0",
   "metadata": {},
   "outputs": [
    {
     "name": "stdout",
     "output_type": "stream",
     "text": [
      "student details hello m loc\n"
     ]
    }
   ],
   "source": [
    "print(\"student details\",name,gender,loc)"
   ]
  },
  {
   "cell_type": "code",
   "execution_count": 21,
   "id": "d12b87a8",
   "metadata": {},
   "outputs": [
    {
     "name": "stdout",
     "output_type": "stream",
     "text": [
      "56789"
     ]
    }
   ],
   "source": [
    "a=range(5,10)\n",
    "for i in a:\n",
    "    print(i,end=\"\")"
   ]
  },
  {
   "cell_type": "code",
   "execution_count": 22,
   "id": "2274ec50",
   "metadata": {},
   "outputs": [
    {
     "name": "stdout",
     "output_type": "stream",
     "text": [
      "<class 'list'>\n"
     ]
    }
   ],
   "source": [
    "print(list)"
   ]
  },
  {
   "cell_type": "code",
   "execution_count": 23,
   "id": "9fe6aea2",
   "metadata": {},
   "outputs": [
    {
     "name": "stdout",
     "output_type": "stream",
     "text": [
      "<class 'tuple'>\n"
     ]
    }
   ],
   "source": [
    "print(tuple)"
   ]
  },
  {
   "cell_type": "code",
   "execution_count": 32,
   "id": "7dc049e2",
   "metadata": {},
   "outputs": [
    {
     "name": "stdout",
     "output_type": "stream",
     "text": [
      "hello mahesh your age is 25 and your sal 100000000\n"
     ]
    }
   ],
   "source": [
    "name=\"mahesh\"\n",
    "age=25\n",
    "salary=100000000\n",
    "print(\"hello {0} your age is {1} and your sal {2}\".format(name, age, salary))"
   ]
  },
  {
   "cell_type": "code",
   "execution_count": 29,
   "id": "1c7f706f",
   "metadata": {},
   "outputs": [],
   "source": [
    "#WAP to print if number is greater than 70"
   ]
  },
  {
   "cell_type": "code",
   "execution_count": 31,
   "id": "2209382b",
   "metadata": {},
   "outputs": [
    {
     "name": "stdout",
     "output_type": "stream",
     "text": [
      "Enter number456\n",
      "Number is gretaer than 70\n"
     ]
    }
   ],
   "source": [
    "num=int(input(\"Enter number\"))\n",
    "if(num>70):\n",
    "    print(\"Number is gretaer than 70\")\n",
    "else:\n",
    "    print(\"Number is less than 70\")"
   ]
  },
  {
   "cell_type": "code",
   "execution_count": 34,
   "id": "a96c9621",
   "metadata": {},
   "outputs": [
    {
     "name": "stdout",
     "output_type": "stream",
     "text": [
      "Enter Confirm Password:dinga22\n",
      "Successfull login\n"
     ]
    }
   ],
   "source": [
    "name=\"dinga\"\n",
    "age=22\n",
    "password=\"dinga22\"\n",
    "confirmPass=input(\"Enter Confirm Password:\")\n",
    "if(confirmPass==password):\n",
    "    print(\"Successfull login\")\n",
    "else:\n",
    "    print(\"Invalid Password\")"
   ]
  },
  {
   "cell_type": "markdown",
   "id": "4789fe76",
   "metadata": {},
   "source": [
    "#  if-elif-else"
   ]
  },
  {
   "cell_type": "code",
   "execution_count": 46,
   "id": "3c94da06",
   "metadata": {},
   "outputs": [
    {
     "name": "stdout",
     "output_type": "stream",
     "text": [
      "Enter marks: 75\n",
      "You are eligible to Microsoft,Google\n"
     ]
    }
   ],
   "source": [
    "marks=int(input(\"Enter marks: \"))\n",
    "if(marks>=70):\n",
    "    print(\"You are eligible to Microsoft,Google\")\n",
    "elif(marks >65 and marks <=69):\n",
    "    print(\"You are eligible to TCS\")\n",
    "elif(marks>60 and marks<=65):\n",
    "    print(\"Your are eligible to Infosys\")\n",
    "elif(marks>50 and marks<=59):\n",
    "    print(\"You are eligible to Wipro\")\n",
    "elif(marks>=40):\n",
    "    print(\"You are eligible to GHMC\")\n",
    "else:\n",
    "    print(\"You are not eligible to any company\")"
   ]
  },
  {
   "cell_type": "markdown",
   "id": "60f33dd6",
   "metadata": {},
   "source": [
    "#  For loop"
   ]
  },
  {
   "cell_type": "code",
   "execution_count": 43,
   "id": "fa10c682",
   "metadata": {},
   "outputs": [
    {
     "name": "stdout",
     "output_type": "stream",
     "text": [
      "Hello\n",
      "Hello\n",
      "Hello\n",
      "Hello\n",
      "Hello\n"
     ]
    }
   ],
   "source": [
    "for i in range(5):\n",
    "    print(\"Hello\")"
   ]
  },
  {
   "cell_type": "code",
   "execution_count": 47,
   "id": "70e7dc08",
   "metadata": {},
   "outputs": [
    {
     "name": "stdout",
     "output_type": "stream",
     "text": [
      "h\n"
     ]
    }
   ],
   "source": [
    "i=6\n",
    "for i in range(1):\n",
    "    print(\"h\")"
   ]
  },
  {
   "cell_type": "code",
   "execution_count": 51,
   "id": "0c084d1f",
   "metadata": {},
   "outputs": [
    {
     "name": "stdout",
     "output_type": "stream",
     "text": [
      "0\n",
      "2\n",
      "4\n",
      "6\n",
      "8\n"
     ]
    }
   ],
   "source": [
    "j=10\n",
    "for i in range(j):\n",
    "    if i%2==0:\n",
    "        print(i)"
   ]
  },
  {
   "cell_type": "code",
   "execution_count": 52,
   "id": "93545cad",
   "metadata": {},
   "outputs": [],
   "source": [
    "# decending order"
   ]
  },
  {
   "cell_type": "code",
   "execution_count": 53,
   "id": "99e89156",
   "metadata": {},
   "outputs": [
    {
     "name": "stdout",
     "output_type": "stream",
     "text": [
      "10\n",
      "9\n",
      "8\n",
      "7\n",
      "6\n",
      "5\n",
      "4\n",
      "3\n",
      "2\n"
     ]
    }
   ],
   "source": [
    "for i in range(10,1,-1):\n",
    "    print(i)"
   ]
  },
  {
   "cell_type": "code",
   "execution_count": 54,
   "id": "35f6b7ac",
   "metadata": {},
   "outputs": [],
   "source": [
    "# WAP to find sum of all values in list"
   ]
  },
  {
   "cell_type": "code",
   "execution_count": 58,
   "id": "f5f59766",
   "metadata": {},
   "outputs": [
    {
     "name": "stdout",
     "output_type": "stream",
     "text": [
      "27\n"
     ]
    }
   ],
   "source": [
    "l=[2,3,4,5,6,7]\n",
    "sum=0\n",
    "for i in l:\n",
    "    sum=sum+i    \n",
    "print(sum)"
   ]
  },
  {
   "cell_type": "code",
   "execution_count": 59,
   "id": "43e62b7f",
   "metadata": {},
   "outputs": [],
   "source": [
    "# WAP to remove duplicates"
   ]
  },
  {
   "cell_type": "code",
   "execution_count": 62,
   "id": "226ca191",
   "metadata": {},
   "outputs": [
    {
     "name": "stdout",
     "output_type": "stream",
     "text": [
      "[2, 3, 4, 5, 6, 7]\n"
     ]
    }
   ],
   "source": [
    "l=[2,3,4,5,6,6,4,7]\n",
    "j=[]\n",
    "for i in l:\n",
    "    if(i not in j):\n",
    "        j.append(i)\n",
    "print(j)\n",
    "        "
   ]
  },
  {
   "cell_type": "code",
   "execution_count": 63,
   "id": "d892b300",
   "metadata": {},
   "outputs": [],
   "source": [
    "#WAP to print charcters in String"
   ]
  },
  {
   "cell_type": "code",
   "execution_count": 64,
   "id": "91d89d3d",
   "metadata": {},
   "outputs": [
    {
     "name": "stdout",
     "output_type": "stream",
     "text": [
      "H\n",
      "e\n",
      "l\n",
      "l\n",
      "o\n"
     ]
    }
   ],
   "source": [
    "name=\"Hello\"\n",
    "for i in name:\n",
    "    print(i)"
   ]
  },
  {
   "cell_type": "markdown",
   "id": "99a3dde3",
   "metadata": {},
   "source": [
    "#  While loop"
   ]
  },
  {
   "cell_type": "code",
   "execution_count": 65,
   "id": "d5f0c78c",
   "metadata": {},
   "outputs": [],
   "source": [
    "#WAP to print name 10 times"
   ]
  },
  {
   "cell_type": "code",
   "execution_count": 66,
   "id": "8fb1a016",
   "metadata": {},
   "outputs": [
    {
     "name": "stdout",
     "output_type": "stream",
     "text": [
      "Hello\n",
      "Hello\n",
      "Hello\n",
      "Hello\n",
      "Hello\n",
      "Hello\n",
      "Hello\n",
      "Hello\n",
      "Hello\n"
     ]
    }
   ],
   "source": [
    "i=1\n",
    "while(i<10):\n",
    "    print(\"Hello\")\n",
    "    i=i+1"
   ]
  },
  {
   "cell_type": "code",
   "execution_count": 67,
   "id": "43c28eac",
   "metadata": {},
   "outputs": [],
   "source": [
    "#WAP to print Sum of n natural numbers"
   ]
  },
  {
   "cell_type": "code",
   "execution_count": 49,
   "id": "62966cd1",
   "metadata": {},
   "outputs": [
    {
     "name": "stdout",
     "output_type": "stream",
     "text": [
      "Enter your number :5\n",
      "10\n"
     ]
    }
   ],
   "source": [
    "num=int(input(\"Enter your number :\"))\n",
    "sum=0\n",
    "i=1\n",
    "while(i<num):\n",
    "    sum=sum+i\n",
    "    i=i+1\n",
    "print(sum)"
   ]
  },
  {
   "cell_type": "markdown",
   "id": "f76fd0e6",
   "metadata": {},
   "source": [
    "#  Pattern programms"
   ]
  },
  {
   "cell_type": "code",
   "execution_count": 3,
   "id": "ac74c85d",
   "metadata": {},
   "outputs": [],
   "source": [
    "# WAP to print below pattern"
   ]
  },
  {
   "cell_type": "code",
   "execution_count": null,
   "id": "7dde6ecd",
   "metadata": {},
   "outputs": [],
   "source": []
  },
  {
   "cell_type": "code",
   "execution_count": 51,
   "id": "a2d87ce9",
   "metadata": {},
   "outputs": [
    {
     "name": "stdout",
     "output_type": "stream",
     "text": [
      "Enter number of rows5\n",
      "*\n",
      "**\n",
      "***\n",
      "****\n",
      "*****\n"
     ]
    }
   ],
   "source": [
    "n=int(input(\"Enter number of rows :\"))\n",
    "for i in range(1,n+1):\n",
    "    for j in range(1,i+1):\n",
    "        print('*',end='')\n",
    "    print()"
   ]
  },
  {
   "cell_type": "markdown",
   "id": "338db446",
   "metadata": {},
   "source": [
    "#  Transfer statement\n",
    "# break,continue,pass"
   ]
  },
  {
   "cell_type": "code",
   "execution_count": 10,
   "id": "fec4c3e8",
   "metadata": {},
   "outputs": [
    {
     "name": "stdout",
     "output_type": "stream",
     "text": [
      "56\n",
      "76\n",
      "failed\n"
     ]
    }
   ],
   "source": [
    "l=[56,76,38,89,90,87]\n",
    "for i in l:\n",
    "    if i<40:\n",
    "        print('failed')\n",
    "        break\n",
    "    else:\n",
    "        print(i)"
   ]
  },
  {
   "cell_type": "code",
   "execution_count": 11,
   "id": "4ab3f453",
   "metadata": {},
   "outputs": [],
   "source": [
    "# continue"
   ]
  },
  {
   "cell_type": "code",
   "execution_count": 12,
   "id": "81b3d3cb",
   "metadata": {},
   "outputs": [
    {
     "name": "stdout",
     "output_type": "stream",
     "text": [
      "56\n",
      "76\n",
      "89\n",
      "90\n",
      "87\n"
     ]
    }
   ],
   "source": [
    "l=[56,76,38,89,90,87]\n",
    "for i in l:\n",
    "    if(i<40):\n",
    "        continue\n",
    "    else:\n",
    "        print(i)"
   ]
  },
  {
   "cell_type": "code",
   "execution_count": 13,
   "id": "615a2376",
   "metadata": {},
   "outputs": [],
   "source": [
    "#prepare list dynamically"
   ]
  },
  {
   "cell_type": "code",
   "execution_count": 18,
   "id": "858f6fda",
   "metadata": {},
   "outputs": [
    {
     "name": "stdout",
     "output_type": "stream",
     "text": [
      "Enter Students info as list{2,3,4,2,3,4}\n",
      "{2, 3, 4}\n"
     ]
    },
    {
     "data": {
      "text/plain": [
       "set"
      ]
     },
     "execution_count": 18,
     "metadata": {},
     "output_type": "execute_result"
    }
   ],
   "source": [
    "std_info=eval(input(\"Enter Students info as list\"))\n",
    "print(std_info)\n",
    "type(std_info)"
   ]
  },
  {
   "cell_type": "code",
   "execution_count": 19,
   "id": "e0d399b0",
   "metadata": {},
   "outputs": [
    {
     "name": "stdout",
     "output_type": "stream",
     "text": [
      "[1, 2, 3, 4, 5, 6, 7]\n"
     ]
    }
   ],
   "source": [
    "li=[1,2,3,4,5,6,7]\n",
    "l2=li\n",
    "print(l2)"
   ]
  },
  {
   "cell_type": "code",
   "execution_count": 22,
   "id": "a8b87c90",
   "metadata": {},
   "outputs": [
    {
     "data": {
      "text/plain": [
       "list"
      ]
     },
     "execution_count": 22,
     "metadata": {},
     "output_type": "execute_result"
    }
   ],
   "source": [
    "l1=list(range(1,10))\n",
    "l1\n",
    "type(li)"
   ]
  },
  {
   "cell_type": "code",
   "execution_count": 23,
   "id": "3536cac7",
   "metadata": {},
   "outputs": [
    {
     "name": "stdout",
     "output_type": "stream",
     "text": [
      "(1, 2, 3, 4, 5, 6, 7, 8, 9)\n"
     ]
    }
   ],
   "source": [
    "t1=tuple(range(1,10))\n",
    "print(t1)"
   ]
  },
  {
   "cell_type": "code",
   "execution_count": 27,
   "id": "84888541",
   "metadata": {},
   "outputs": [
    {
     "data": {
      "text/plain": [
       "int"
      ]
     },
     "execution_count": 27,
     "metadata": {},
     "output_type": "execute_result"
    }
   ],
   "source": [
    "var=1_2_3_4_5\n",
    "var\n",
    "type(var)"
   ]
  },
  {
   "cell_type": "code",
   "execution_count": 28,
   "id": "bedc2901",
   "metadata": {},
   "outputs": [],
   "source": [
    "# accesing list of values through index"
   ]
  },
  {
   "cell_type": "code",
   "execution_count": 29,
   "id": "5b70b178",
   "metadata": {},
   "outputs": [
    {
     "name": "stdout",
     "output_type": "stream",
     "text": [
      "1\n"
     ]
    }
   ],
   "source": [
    "l=[1,2,3,4,5]\n",
    "print(l[0])"
   ]
  },
  {
   "cell_type": "code",
   "execution_count": 30,
   "id": "a60651c5",
   "metadata": {},
   "outputs": [
    {
     "name": "stdout",
     "output_type": "stream",
     "text": [
      "[100, 2, 3, 4, 5]\n"
     ]
    }
   ],
   "source": [
    "l[0]=100\n",
    "print(l)"
   ]
  },
  {
   "cell_type": "markdown",
   "id": "cf11ca40",
   "metadata": {},
   "source": [
    "#  slice operation"
   ]
  },
  {
   "cell_type": "code",
   "execution_count": 32,
   "id": "0d55b511",
   "metadata": {},
   "outputs": [
    {
     "data": {
      "text/plain": [
       "[3, 4, 5]"
      ]
     },
     "execution_count": 32,
     "metadata": {},
     "output_type": "execute_result"
    }
   ],
   "source": [
    "l=[1,2,3,4,5,6,9,10,11,12]\n",
    "l[2:5]"
   ]
  },
  {
   "cell_type": "code",
   "execution_count": 36,
   "id": "b4b8c0f8",
   "metadata": {},
   "outputs": [
    {
     "data": {
      "text/plain": [
       "[3, 6]"
      ]
     },
     "execution_count": 36,
     "metadata": {},
     "output_type": "execute_result"
    }
   ],
   "source": [
    "l=[1,2,3,4,5,6,9,10,11,12]\n",
    "l[2:7:3]"
   ]
  },
  {
   "cell_type": "code",
   "execution_count": 37,
   "id": "ad1ede84",
   "metadata": {},
   "outputs": [
    {
     "data": {
      "text/plain": [
       "[1, 2, 3, 4, 5, 6, 9, 10, 11]"
      ]
     },
     "execution_count": 37,
     "metadata": {},
     "output_type": "execute_result"
    }
   ],
   "source": [
    "l=[1,2,3,4,5,6,9,10,11,12]\n",
    "l[0:9]"
   ]
  },
  {
   "cell_type": "code",
   "execution_count": 42,
   "id": "5f0ec9f7",
   "metadata": {},
   "outputs": [
    {
     "data": {
      "text/plain": [
       "[1, 4, 9]"
      ]
     },
     "execution_count": 42,
     "metadata": {},
     "output_type": "execute_result"
    }
   ],
   "source": [
    "l=[1,2,3,4,5,6,9,10,11,12]\n",
    "l[0:9:3]"
   ]
  },
  {
   "cell_type": "code",
   "execution_count": 43,
   "id": "2c410b1f",
   "metadata": {},
   "outputs": [
    {
     "data": {
      "text/plain": [
       "5"
      ]
     },
     "execution_count": 43,
     "metadata": {},
     "output_type": "execute_result"
    }
   ],
   "source": [
    "#functions\n",
    "\n",
    "\n",
    "l=[1,2,3,4,5]\n",
    "len(l)"
   ]
  },
  {
   "cell_type": "code",
   "execution_count": 46,
   "id": "6f22e6a5",
   "metadata": {},
   "outputs": [
    {
     "data": {
      "text/plain": [
       "3"
      ]
     },
     "execution_count": 46,
     "metadata": {},
     "output_type": "execute_result"
    }
   ],
   "source": [
    "l=[2,3,4,5,5,2,2]\n",
    "l.count(2)"
   ]
  },
  {
   "cell_type": "code",
   "execution_count": 47,
   "id": "87972503",
   "metadata": {},
   "outputs": [
    {
     "data": {
      "text/plain": [
       "2"
      ]
     },
     "execution_count": 47,
     "metadata": {},
     "output_type": "execute_result"
    }
   ],
   "source": [
    "l.index(4)"
   ]
  },
  {
   "cell_type": "code",
   "execution_count": 48,
   "id": "e87fcd7a",
   "metadata": {},
   "outputs": [
    {
     "data": {
      "text/plain": [
       "3"
      ]
     },
     "execution_count": 48,
     "metadata": {},
     "output_type": "execute_result"
    }
   ],
   "source": [
    "l.index(5)"
   ]
  },
  {
   "cell_type": "code",
   "execution_count": 49,
   "id": "18804acb",
   "metadata": {},
   "outputs": [
    {
     "data": {
      "text/plain": [
       "0"
      ]
     },
     "execution_count": 49,
     "metadata": {},
     "output_type": "execute_result"
    }
   ],
   "source": [
    "l.index(2)"
   ]
  },
  {
   "cell_type": "code",
   "execution_count": 50,
   "id": "f443951f",
   "metadata": {},
   "outputs": [],
   "source": [
    "l.append(44)"
   ]
  },
  {
   "cell_type": "code",
   "execution_count": 51,
   "id": "4a25db43",
   "metadata": {},
   "outputs": [
    {
     "data": {
      "text/plain": [
       "[2, 3, 4, 5, 5, 2, 2, 44]"
      ]
     },
     "execution_count": 51,
     "metadata": {},
     "output_type": "execute_result"
    }
   ],
   "source": [
    "l"
   ]
  },
  {
   "cell_type": "code",
   "execution_count": 52,
   "id": "1c16146c",
   "metadata": {},
   "outputs": [],
   "source": [
    "l.insert(1,98)"
   ]
  },
  {
   "cell_type": "code",
   "execution_count": 53,
   "id": "aa8eeee6",
   "metadata": {},
   "outputs": [
    {
     "data": {
      "text/plain": [
       "[2, 98, 3, 4, 5, 5, 2, 2, 44]"
      ]
     },
     "execution_count": 53,
     "metadata": {},
     "output_type": "execute_result"
    }
   ],
   "source": [
    "l"
   ]
  },
  {
   "cell_type": "code",
   "execution_count": 55,
   "id": "cb319859",
   "metadata": {},
   "outputs": [
    {
     "data": {
      "text/plain": [
       "9"
      ]
     },
     "execution_count": 55,
     "metadata": {},
     "output_type": "execute_result"
    }
   ],
   "source": [
    "len(l)"
   ]
  },
  {
   "cell_type": "code",
   "execution_count": 57,
   "id": "a1bc63d1",
   "metadata": {},
   "outputs": [
    {
     "name": "stdout",
     "output_type": "stream",
     "text": [
      "first list [1, 2, 3, 4, 5, 6, 7, 8]\n",
      "second list [5, 6, 7, 8]\n"
     ]
    }
   ],
   "source": [
    "l=[1,2,3,4]\n",
    "l2=[5,6,7,8]\n",
    "l.extend(l2)\n",
    "print('first list',l)\n",
    "print('second list',l2)"
   ]
  },
  {
   "cell_type": "code",
   "execution_count": 58,
   "id": "52f89a44",
   "metadata": {},
   "outputs": [
    {
     "name": "stdout",
     "output_type": "stream",
     "text": [
      "first list [1, 2, 3, 4]\n",
      "second list [5, 6, 7, 8, 1, 2, 3, 4]\n"
     ]
    }
   ],
   "source": [
    "l=[1,2,3,4]\n",
    "l2=[5,6,7,8]\n",
    "l2.extend(l)\n",
    "print('first list',l)\n",
    "print('second list',l2)"
   ]
  },
  {
   "cell_type": "code",
   "execution_count": 59,
   "id": "8fafa05b",
   "metadata": {},
   "outputs": [],
   "source": [
    "l.remove(2)"
   ]
  },
  {
   "cell_type": "code",
   "execution_count": 60,
   "id": "ea57275a",
   "metadata": {},
   "outputs": [
    {
     "name": "stdout",
     "output_type": "stream",
     "text": [
      "[1, 3, 4]\n"
     ]
    }
   ],
   "source": [
    "print(l)"
   ]
  },
  {
   "cell_type": "code",
   "execution_count": 61,
   "id": "baad815d",
   "metadata": {},
   "outputs": [
    {
     "data": {
      "text/plain": [
       "4"
      ]
     },
     "execution_count": 61,
     "metadata": {},
     "output_type": "execute_result"
    }
   ],
   "source": [
    "l.pop()"
   ]
  },
  {
   "cell_type": "code",
   "execution_count": 62,
   "id": "8ab3a519",
   "metadata": {},
   "outputs": [
    {
     "data": {
      "text/plain": [
       "4"
      ]
     },
     "execution_count": 62,
     "metadata": {},
     "output_type": "execute_result"
    }
   ],
   "source": [
    "l2.pop()"
   ]
  },
  {
   "cell_type": "code",
   "execution_count": 70,
   "id": "7403a5d7",
   "metadata": {},
   "outputs": [
    {
     "name": "stdout",
     "output_type": "stream",
     "text": [
      "[121, 2, 3, 5, 2]\n"
     ]
    }
   ],
   "source": [
    "l3=[121,2,3,5,2,11]\n",
    "l3.pop()\n",
    "print(l3)"
   ]
  },
  {
   "cell_type": "code",
   "execution_count": 69,
   "id": "021f8a64",
   "metadata": {},
   "outputs": [
    {
     "data": {
      "text/plain": [
       "[121, 2, 3, 5, 2]"
      ]
     },
     "execution_count": 69,
     "metadata": {},
     "output_type": "execute_result"
    }
   ],
   "source": [
    "l4=[121,2,3,5,2,11]\n",
    "l4.pop()\n",
    "l4"
   ]
  },
  {
   "cell_type": "code",
   "execution_count": 72,
   "id": "060bd47e",
   "metadata": {},
   "outputs": [
    {
     "name": "stdout",
     "output_type": "stream",
     "text": [
      "[2, 76, 90, 121, 675]\n"
     ]
    }
   ],
   "source": [
    "s=[90,76,121,675,2]\n",
    "s.sort()\n",
    "print(s)"
   ]
  },
  {
   "cell_type": "code",
   "execution_count": 73,
   "id": "69923d09",
   "metadata": {},
   "outputs": [
    {
     "name": "stdout",
     "output_type": "stream",
     "text": [
      "[675, 121, 90, 76, 2]\n"
     ]
    }
   ],
   "source": [
    "s=[90,76,121,675,2]\n",
    "s.sort(reverse=True)\n",
    "print(s)"
   ]
  },
  {
   "cell_type": "markdown",
   "id": "13846165",
   "metadata": {},
   "source": [
    "# Alising and cloning list objects"
   ]
  },
  {
   "cell_type": "code",
   "execution_count": 74,
   "id": "7f59c3af",
   "metadata": {},
   "outputs": [
    {
     "name": "stdout",
     "output_type": "stream",
     "text": [
      "[10, 20, 40, 30, 50]\n"
     ]
    }
   ],
   "source": [
    "l=[10,20,40,30,50]\n",
    "l1=l\n",
    "print(l1)"
   ]
  },
  {
   "cell_type": "code",
   "execution_count": 75,
   "id": "b0fe6d16",
   "metadata": {},
   "outputs": [
    {
     "name": "stdout",
     "output_type": "stream",
     "text": [
      "1686433935552\n",
      "1686433935552\n"
     ]
    }
   ],
   "source": [
    "print(id(l))\n",
    "print(id(l1))"
   ]
  },
  {
   "cell_type": "code",
   "execution_count": 76,
   "id": "07f975d7",
   "metadata": {},
   "outputs": [
    {
     "name": "stdout",
     "output_type": "stream",
     "text": [
      "list l2: [1, 2, 3, 4, 5, 56]\n",
      "list l3: [1, 2, 3, 4, 5, 56]\n",
      "1686430433792\n",
      "1686430433792\n"
     ]
    }
   ],
   "source": [
    "l2=[1,2,3,4,5]\n",
    "l3=l2\n",
    "l3.append(56)\n",
    "print('list l2:',l2)\n",
    "print('list l3:',l3)\n",
    "print(id(l2))\n",
    "print(id(l3))"
   ]
  },
  {
   "cell_type": "code",
   "execution_count": 77,
   "id": "a1bfb723",
   "metadata": {},
   "outputs": [],
   "source": [
    "# cloning"
   ]
  },
  {
   "cell_type": "code",
   "execution_count": 82,
   "id": "6ff2aa25",
   "metadata": {},
   "outputs": [
    {
     "data": {
      "text/plain": [
       "[0, 9, 8, 7, 6]"
      ]
     },
     "execution_count": 82,
     "metadata": {},
     "output_type": "execute_result"
    }
   ],
   "source": [
    "z=[0,9,8,7,6]\n",
    "z[:]"
   ]
  },
  {
   "cell_type": "code",
   "execution_count": 83,
   "id": "e47a3fa8",
   "metadata": {},
   "outputs": [
    {
     "name": "stdout",
     "output_type": "stream",
     "text": [
      "[0, 9, 8, 7, 6]\n"
     ]
    }
   ],
   "source": [
    "z1=z[:]\n",
    "print(z1)"
   ]
  },
  {
   "cell_type": "code",
   "execution_count": 85,
   "id": "a01a4a36",
   "metadata": {},
   "outputs": [
    {
     "name": "stdout",
     "output_type": "stream",
     "text": [
      "[0, 9, 8, 7, 6]\n",
      "[0, 9, 8, 7, 6]\n",
      "1686430454720\n",
      "1686430119744\n"
     ]
    }
   ],
   "source": [
    "print(z)\n",
    "print(z1)\n",
    "print(id(z))\n",
    "print(id(z1))"
   ]
  },
  {
   "cell_type": "code",
   "execution_count": 86,
   "id": "93c2a8ac",
   "metadata": {},
   "outputs": [
    {
     "data": {
      "text/plain": [
       "[0, 9, 8, 7, 6, 0, 9, 8, 7, 6]"
      ]
     },
     "execution_count": 86,
     "metadata": {},
     "output_type": "execute_result"
    }
   ],
   "source": [
    "z+z1"
   ]
  },
  {
   "cell_type": "code",
   "execution_count": 87,
   "id": "41c3d8d8",
   "metadata": {},
   "outputs": [
    {
     "data": {
      "text/plain": [
       "[0, 9, 8, 7, 6, 0, 9, 8, 7, 6, 0, 9, 8, 7, 6]"
      ]
     },
     "execution_count": 87,
     "metadata": {},
     "output_type": "execute_result"
    }
   ],
   "source": [
    "z*3"
   ]
  },
  {
   "cell_type": "code",
   "execution_count": 88,
   "id": "dc1d05c7",
   "metadata": {},
   "outputs": [
    {
     "name": "stdout",
     "output_type": "stream",
     "text": [
      "[0, 9, 8, 7, 6, 0, 9, 8, 7, 6]\n",
      "z4 *3: [0, 9, 8, 7, 6, 0, 9, 8, 7, 6, 0, 9, 8, 7, 6, 0, 9, 8, 7, 6, 0, 9, 8, 7, 6, 0, 9, 8, 7, 6]\n"
     ]
    }
   ],
   "source": [
    "z4=z+z1\n",
    "print(z4)\n",
    "print(\"z4 *3:\",z4*3)"
   ]
  },
  {
   "cell_type": "code",
   "execution_count": 89,
   "id": "8c0a7499",
   "metadata": {},
   "outputs": [
    {
     "data": {
      "text/plain": [
       "True"
      ]
     },
     "execution_count": 89,
     "metadata": {},
     "output_type": "execute_result"
    }
   ],
   "source": [
    "z==z1"
   ]
  },
  {
   "cell_type": "code",
   "execution_count": 90,
   "id": "9a1fea4c",
   "metadata": {},
   "outputs": [
    {
     "data": {
      "text/plain": [
       "False"
      ]
     },
     "execution_count": 90,
     "metadata": {},
     "output_type": "execute_result"
    }
   ],
   "source": [
    "z1==z4"
   ]
  },
  {
   "cell_type": "code",
   "execution_count": 91,
   "id": "531b3c4a",
   "metadata": {},
   "outputs": [],
   "source": [
    "z4.clear()"
   ]
  },
  {
   "cell_type": "code",
   "execution_count": 92,
   "id": "aaf8a9ed",
   "metadata": {},
   "outputs": [
    {
     "data": {
      "text/plain": [
       "[]"
      ]
     },
     "execution_count": 92,
     "metadata": {},
     "output_type": "execute_result"
    }
   ],
   "source": [
    "z4"
   ]
  },
  {
   "cell_type": "code",
   "execution_count": 94,
   "id": "b3b4716a",
   "metadata": {},
   "outputs": [
    {
     "data": {
      "text/plain": [
       "[0, 9, 8, 7, 6]"
      ]
     },
     "execution_count": 94,
     "metadata": {},
     "output_type": "execute_result"
    }
   ],
   "source": [
    "z1"
   ]
  },
  {
   "cell_type": "code",
   "execution_count": 95,
   "id": "2731f190",
   "metadata": {},
   "outputs": [],
   "source": [
    "# list with in another list"
   ]
  },
  {
   "cell_type": "code",
   "execution_count": 96,
   "id": "ca3a6f53",
   "metadata": {},
   "outputs": [],
   "source": [
    "std_info=['Hello',22,['hyd','xyz']]"
   ]
  },
  {
   "cell_type": "code",
   "execution_count": 97,
   "id": "4ec1ff57",
   "metadata": {},
   "outputs": [
    {
     "data": {
      "text/plain": [
       "['Hello', 22, ['hyd', 'xyz']]"
      ]
     },
     "execution_count": 97,
     "metadata": {},
     "output_type": "execute_result"
    }
   ],
   "source": [
    "std_info"
   ]
  },
  {
   "cell_type": "code",
   "execution_count": 98,
   "id": "822a1c2b",
   "metadata": {},
   "outputs": [
    {
     "data": {
      "text/plain": [
       "['hyd', 'xyz']"
      ]
     },
     "execution_count": 98,
     "metadata": {},
     "output_type": "execute_result"
    }
   ],
   "source": [
    "std_info[2]"
   ]
  },
  {
   "cell_type": "code",
   "execution_count": 99,
   "id": "6312d87a",
   "metadata": {},
   "outputs": [
    {
     "data": {
      "text/plain": [
       "22"
      ]
     },
     "execution_count": 99,
     "metadata": {},
     "output_type": "execute_result"
    }
   ],
   "source": [
    "std_info[1]"
   ]
  },
  {
   "cell_type": "code",
   "execution_count": 100,
   "id": "8109b5e2",
   "metadata": {},
   "outputs": [
    {
     "data": {
      "text/plain": [
       "[1, 2, 3, 4, 5, 6, 7, 8, 9, 10]"
      ]
     },
     "execution_count": 100,
     "metadata": {},
     "output_type": "execute_result"
    }
   ],
   "source": [
    "l=[1,2,3,4,5]\n",
    "l2=[6,7,8,9,10]\n",
    "l+l2\n"
   ]
  },
  {
   "cell_type": "code",
   "execution_count": 102,
   "id": "9feab65d",
   "metadata": {},
   "outputs": [
    {
     "name": "stdout",
     "output_type": "stream",
     "text": [
      "[7, 9, 11, 13, 15]\n"
     ]
    }
   ],
   "source": [
    "l=[1,2,3,4,5]\n",
    "l2=[6,7,8,9,10]\n",
    "j=0\n",
    "l3=[]\n",
    "for i in l:\n",
    "    ele=i+l2[j]\n",
    "    j=j+1\n",
    "    l3.append(ele)\n",
    "print(l3)"
   ]
  },
  {
   "cell_type": "code",
   "execution_count": 109,
   "id": "99492cd4",
   "metadata": {},
   "outputs": [
    {
     "name": "stdout",
     "output_type": "stream",
     "text": [
      "[2, 4]\n"
     ]
    }
   ],
   "source": [
    "l=[1,2,3,4,5]\n",
    "l2=[]\n",
    "for i in l:\n",
    "    if(i%2==0):\n",
    "        l2.append(i)\n",
    "print(l2)\n",
    "        "
   ]
  },
  {
   "cell_type": "code",
   "execution_count": 110,
   "id": "c40bac4f",
   "metadata": {},
   "outputs": [],
   "source": [
    "# list comprehension"
   ]
  },
  {
   "cell_type": "code",
   "execution_count": 111,
   "id": "30920edf",
   "metadata": {},
   "outputs": [],
   "source": [
    "#create a list with even numbers"
   ]
  },
  {
   "cell_type": "code",
   "execution_count": 113,
   "id": "263dce4f",
   "metadata": {},
   "outputs": [
    {
     "name": "stdout",
     "output_type": "stream",
     "text": [
      "[2, 4, 6, 8]\n"
     ]
    }
   ],
   "source": [
    "s=[i for i in range(1,10) if(i%2==0)]\n",
    "print(s)"
   ]
  },
  {
   "cell_type": "code",
   "execution_count": 114,
   "id": "074eb5f8",
   "metadata": {},
   "outputs": [
    {
     "name": "stdout",
     "output_type": "stream",
     "text": [
      "[1, 4, 9, 16, 25, 36, 49, 64, 81]\n"
     ]
    }
   ],
   "source": [
    "sq_num=[i*i for i in range(1,10)]\n",
    "print(sq_num)"
   ]
  },
  {
   "cell_type": "markdown",
   "id": "49270b32",
   "metadata": {},
   "source": [
    "#  Tuple operations"
   ]
  },
  {
   "cell_type": "code",
   "execution_count": 117,
   "id": "5c49715b",
   "metadata": {},
   "outputs": [
    {
     "name": "stdout",
     "output_type": "stream",
     "text": [
      "Enter values(1,2,3,4,5)\n",
      "(1, 2, 3, 4, 5)\n"
     ]
    },
    {
     "data": {
      "text/plain": [
       "tuple"
      ]
     },
     "execution_count": 117,
     "metadata": {},
     "output_type": "execute_result"
    }
   ],
   "source": [
    "t=eval(input(\"Enter values\"))\n",
    "print(t)\n",
    "type(t)"
   ]
  },
  {
   "cell_type": "code",
   "execution_count": 118,
   "id": "c7c4fbaa",
   "metadata": {},
   "outputs": [],
   "source": [
    "# converting list to tuple"
   ]
  },
  {
   "cell_type": "code",
   "execution_count": 119,
   "id": "64ff336c",
   "metadata": {},
   "outputs": [
    {
     "name": "stdout",
     "output_type": "stream",
     "text": [
      "(1, 2, 3, 4, 5)\n",
      "<class 'tuple'>\n",
      "<class 'list'>\n"
     ]
    }
   ],
   "source": [
    "l=[1,2,3,4,5]\n",
    "t=tuple(l)\n",
    "print(t)\n",
    "print(type(t))\n",
    "print(type(l))"
   ]
  },
  {
   "cell_type": "code",
   "execution_count": 120,
   "id": "de6a532e",
   "metadata": {},
   "outputs": [],
   "source": [
    "# converting tuple to list"
   ]
  },
  {
   "cell_type": "code",
   "execution_count": 121,
   "id": "6287a98d",
   "metadata": {},
   "outputs": [
    {
     "data": {
      "text/plain": [
       "[1, 2, 3, 4, 5]"
      ]
     },
     "execution_count": 121,
     "metadata": {},
     "output_type": "execute_result"
    }
   ],
   "source": [
    "t=(1,2,3,4,5)\n",
    "l=list(t)\n",
    "l"
   ]
  },
  {
   "cell_type": "code",
   "execution_count": 122,
   "id": "91876ecc",
   "metadata": {},
   "outputs": [],
   "source": [
    "#repeatation operator"
   ]
  },
  {
   "cell_type": "code",
   "execution_count": 123,
   "id": "3afaf611",
   "metadata": {},
   "outputs": [
    {
     "name": "stdout",
     "output_type": "stream",
     "text": [
      "(10, 20, 30, 10, 20, 30, 10, 20, 30)\n"
     ]
    }
   ],
   "source": [
    "t=(10,20,30)\n",
    "t2=t*3\n",
    "print(t2)"
   ]
  },
  {
   "cell_type": "code",
   "execution_count": 126,
   "id": "c638c59d",
   "metadata": {},
   "outputs": [
    {
     "data": {
      "text/plain": [
       "1"
      ]
     },
     "execution_count": 126,
     "metadata": {},
     "output_type": "execute_result"
    }
   ],
   "source": [
    "t=(10,20,30)\n",
    "t.index(20)"
   ]
  },
  {
   "cell_type": "code",
   "execution_count": 133,
   "id": "b4151d55",
   "metadata": {},
   "outputs": [
    {
     "name": "stdout",
     "output_type": "stream",
     "text": [
      "[11, 23, 45, 56, 99]\n"
     ]
    }
   ],
   "source": [
    "#sorting\n",
    "\n",
    "t=(11,45,23,56,99)\n",
    "t1=sorted(t)\n",
    "print(t1)"
   ]
  },
  {
   "cell_type": "code",
   "execution_count": 135,
   "id": "15d3c08d",
   "metadata": {},
   "outputs": [
    {
     "data": {
      "text/plain": [
       "[99, 56, 45, 23, 11]"
      ]
     },
     "execution_count": 135,
     "metadata": {},
     "output_type": "execute_result"
    }
   ],
   "source": [
    "t1=sorted(t,reverse=True)\n",
    "t1"
   ]
  },
  {
   "cell_type": "code",
   "execution_count": 136,
   "id": "5ca1476b",
   "metadata": {},
   "outputs": [],
   "source": [
    "#packing and unpacking"
   ]
  },
  {
   "cell_type": "code",
   "execution_count": 137,
   "id": "67186347",
   "metadata": {},
   "outputs": [
    {
     "name": "stdout",
     "output_type": "stream",
     "text": [
      "(10, 20, 30, 40)\n"
     ]
    }
   ],
   "source": [
    "a=10\n",
    "b=20\n",
    "c=30\n",
    "d=40\n",
    "t=a,b,c,d\n",
    "print(t)"
   ]
  },
  {
   "cell_type": "code",
   "execution_count": 143,
   "id": "062d387c",
   "metadata": {},
   "outputs": [
    {
     "data": {
      "text/plain": [
       "[0, 9, 8, 7, 6]"
      ]
     },
     "execution_count": 143,
     "metadata": {},
     "output_type": "execute_result"
    }
   ],
   "source": [
    "d=z\n",
    "z"
   ]
  },
  {
   "cell_type": "code",
   "execution_count": 144,
   "id": "67bdb6cb",
   "metadata": {},
   "outputs": [],
   "source": [
    "# min and max functions"
   ]
  },
  {
   "cell_type": "code",
   "execution_count": 145,
   "id": "ffd4d94b",
   "metadata": {},
   "outputs": [
    {
     "data": {
      "text/plain": [
       "2"
      ]
     },
     "execution_count": 145,
     "metadata": {},
     "output_type": "execute_result"
    }
   ],
   "source": [
    "t=(10,2,4,99)\n",
    "min(t)"
   ]
  },
  {
   "cell_type": "code",
   "execution_count": 146,
   "id": "807a1e4a",
   "metadata": {},
   "outputs": [
    {
     "data": {
      "text/plain": [
       "99"
      ]
     },
     "execution_count": 146,
     "metadata": {},
     "output_type": "execute_result"
    }
   ],
   "source": [
    "max(t)"
   ]
  },
  {
   "cell_type": "markdown",
   "id": "78209b2c",
   "metadata": {},
   "source": [
    "#  Set operations"
   ]
  },
  {
   "cell_type": "code",
   "execution_count": 147,
   "id": "77626ea1",
   "metadata": {},
   "outputs": [
    {
     "data": {
      "text/plain": [
       "{1, 2, 3, 4, 5, 6, 7}"
      ]
     },
     "execution_count": 147,
     "metadata": {},
     "output_type": "execute_result"
    }
   ],
   "source": [
    "s={1,2,3,4,5,6}\n",
    "s.add(7)\n",
    "s"
   ]
  },
  {
   "cell_type": "code",
   "execution_count": 148,
   "id": "4ac877e8",
   "metadata": {},
   "outputs": [
    {
     "data": {
      "text/plain": [
       "{10, 20, 30, 40, 50}"
      ]
     },
     "execution_count": 148,
     "metadata": {},
     "output_type": "execute_result"
    }
   ],
   "source": [
    "l=[10,20,30,40,50]\n",
    "s=set(l)\n",
    "s"
   ]
  },
  {
   "cell_type": "code",
   "execution_count": 149,
   "id": "f76f863f",
   "metadata": {},
   "outputs": [],
   "source": [
    "# update"
   ]
  },
  {
   "cell_type": "code",
   "execution_count": 150,
   "id": "e1c54089",
   "metadata": {},
   "outputs": [
    {
     "data": {
      "text/plain": [
       "{10, 20, 22, 23, 24, 30, 40, 45, 46, 47, 48, 49, 50, 51, 52, 53, 54}"
      ]
     },
     "execution_count": 150,
     "metadata": {},
     "output_type": "execute_result"
    }
   ],
   "source": [
    "s={10,20,30,40,50}\n",
    "l=[22,23,24]\n",
    "r=range(45,55)\n",
    "s.update(l,r)\n",
    "s"
   ]
  },
  {
   "cell_type": "code",
   "execution_count": 153,
   "id": "98aa73c6",
   "metadata": {},
   "outputs": [
    {
     "data": {
      "text/plain": [
       "{1, 2, 3, 4, 5, 19}"
      ]
     },
     "execution_count": 153,
     "metadata": {},
     "output_type": "execute_result"
    }
   ],
   "source": [
    "s={1,4,5}\n",
    "l=[2,3]\n",
    "r=(19,2)\n",
    "s.update(l,r)\n",
    "s\n"
   ]
  },
  {
   "cell_type": "code",
   "execution_count": 154,
   "id": "6b6e1833",
   "metadata": {},
   "outputs": [
    {
     "data": {
      "text/plain": [
       "{0, 6, 7, 8, 9}"
      ]
     },
     "execution_count": 154,
     "metadata": {},
     "output_type": "execute_result"
    }
   ],
   "source": [
    "s={0,9,8,7,6}\n",
    "s1=s.copy()\n",
    "s1"
   ]
  },
  {
   "cell_type": "code",
   "execution_count": 155,
   "id": "d6c981c6",
   "metadata": {},
   "outputs": [
    {
     "name": "stdout",
     "output_type": "stream",
     "text": [
      "1686435397920\n",
      "1686435398368\n"
     ]
    }
   ],
   "source": [
    "print(id(s))\n",
    "print(id(s1))"
   ]
  },
  {
   "cell_type": "code",
   "execution_count": 156,
   "id": "33f5ff6c",
   "metadata": {},
   "outputs": [
    {
     "data": {
      "text/plain": [
       "0"
      ]
     },
     "execution_count": 156,
     "metadata": {},
     "output_type": "execute_result"
    }
   ],
   "source": [
    "s.pop()"
   ]
  },
  {
   "cell_type": "code",
   "execution_count": 157,
   "id": "b79df6d4",
   "metadata": {},
   "outputs": [
    {
     "data": {
      "text/plain": [
       "{6, 7, 8, 9}"
      ]
     },
     "execution_count": 157,
     "metadata": {},
     "output_type": "execute_result"
    }
   ],
   "source": [
    "s"
   ]
  },
  {
   "cell_type": "code",
   "execution_count": 158,
   "id": "a45447d3",
   "metadata": {},
   "outputs": [
    {
     "data": {
      "text/plain": [
       "{7, 8, 9}"
      ]
     },
     "execution_count": 158,
     "metadata": {},
     "output_type": "execute_result"
    }
   ],
   "source": [
    "s.pop()\n",
    "s"
   ]
  },
  {
   "cell_type": "code",
   "execution_count": 159,
   "id": "7545528e",
   "metadata": {},
   "outputs": [
    {
     "ename": "KeyError",
     "evalue": "5",
     "output_type": "error",
     "traceback": [
      "\u001b[1;31m---------------------------------------------------------------------------\u001b[0m",
      "\u001b[1;31mKeyError\u001b[0m                                  Traceback (most recent call last)",
      "Cell \u001b[1;32mIn[159], line 2\u001b[0m\n\u001b[0;32m      1\u001b[0m s\u001b[38;5;241m=\u001b[39m{\u001b[38;5;241m1\u001b[39m,\u001b[38;5;241m2\u001b[39m,\u001b[38;5;241m3\u001b[39m,\u001b[38;5;241m4\u001b[39m}\n\u001b[1;32m----> 2\u001b[0m \u001b[43ms\u001b[49m\u001b[38;5;241;43m.\u001b[39;49m\u001b[43mremove\u001b[49m\u001b[43m(\u001b[49m\u001b[38;5;241;43m5\u001b[39;49m\u001b[43m)\u001b[49m\n",
      "\u001b[1;31mKeyError\u001b[0m: 5"
     ]
    }
   ],
   "source": [
    "s={1,2,3,4}\n",
    "s.remove(5)"
   ]
  },
  {
   "cell_type": "code",
   "execution_count": 160,
   "id": "fa1b9dc1",
   "metadata": {},
   "outputs": [],
   "source": [
    "s={1,2,3,4}\n",
    "s.discard(5)"
   ]
  },
  {
   "cell_type": "code",
   "execution_count": 161,
   "id": "fc5a47ca",
   "metadata": {},
   "outputs": [],
   "source": [
    "s.clear()"
   ]
  },
  {
   "cell_type": "code",
   "execution_count": 162,
   "id": "0b8dd29a",
   "metadata": {},
   "outputs": [
    {
     "data": {
      "text/plain": [
       "set()"
      ]
     },
     "execution_count": 162,
     "metadata": {},
     "output_type": "execute_result"
    }
   ],
   "source": [
    "s"
   ]
  },
  {
   "cell_type": "code",
   "execution_count": 163,
   "id": "2c6bc4a0",
   "metadata": {},
   "outputs": [],
   "source": [
    "#union"
   ]
  },
  {
   "cell_type": "code",
   "execution_count": 164,
   "id": "eb598df3",
   "metadata": {},
   "outputs": [
    {
     "name": "stdout",
     "output_type": "stream",
     "text": [
      "{1, 2, 3, 4, 5, 6, 7, 8, 9, 10}\n"
     ]
    }
   ],
   "source": [
    "s={1,2,3,4,5}\n",
    "s2={6,7,8,9,10}\n",
    "print(s.union(s2))\n"
   ]
  },
  {
   "cell_type": "code",
   "execution_count": 165,
   "id": "f7cf8409",
   "metadata": {},
   "outputs": [],
   "source": [
    "#intersection"
   ]
  },
  {
   "cell_type": "code",
   "execution_count": 167,
   "id": "4d78d497",
   "metadata": {},
   "outputs": [
    {
     "name": "stdout",
     "output_type": "stream",
     "text": [
      "{5}\n"
     ]
    }
   ],
   "source": [
    "s={1,2,3,4,5}\n",
    "s2={5,6,7,8,9,10}\n",
    "print(s.intersection(s2))"
   ]
  },
  {
   "cell_type": "code",
   "execution_count": 168,
   "id": "4ba4ba48",
   "metadata": {},
   "outputs": [],
   "source": [
    "#difference"
   ]
  },
  {
   "cell_type": "code",
   "execution_count": 170,
   "id": "8f9ec232",
   "metadata": {},
   "outputs": [
    {
     "data": {
      "text/plain": [
       "{1, 2, 3, 4}"
      ]
     },
     "execution_count": 170,
     "metadata": {},
     "output_type": "execute_result"
    }
   ],
   "source": [
    "s={1,2,3,4,5}\n",
    "s1={5,6,7,8,9}\n",
    "s.difference(s1)"
   ]
  },
  {
   "cell_type": "code",
   "execution_count": 171,
   "id": "8a23e93a",
   "metadata": {},
   "outputs": [],
   "source": [
    "#symmetric_difference"
   ]
  },
  {
   "cell_type": "code",
   "execution_count": 172,
   "id": "79e55ffc",
   "metadata": {},
   "outputs": [
    {
     "data": {
      "text/plain": [
       "{1, 2, 3, 4, 7, 8, 9, 10}"
      ]
     },
     "execution_count": 172,
     "metadata": {},
     "output_type": "execute_result"
    }
   ],
   "source": [
    "s={1,2,3,4,5,6}\n",
    "s1={6,7,5,9,10}\n",
    "s.symmetric_difference(s2)"
   ]
  },
  {
   "cell_type": "code",
   "execution_count": 178,
   "id": "24a8120a",
   "metadata": {},
   "outputs": [
    {
     "data": {
      "text/plain": [
       "{' ', 'P', 'a', 'g', 'h', 'i', 'm', 'n', 'o', 'p', 'r', 't', 'y'}"
      ]
     },
     "execution_count": 178,
     "metadata": {},
     "output_type": "execute_result"
    }
   ],
   "source": [
    "s=\"Python programming\"\n",
    "s1=set(s)\n",
    "s1"
   ]
  },
  {
   "cell_type": "code",
   "execution_count": 182,
   "id": "08985970",
   "metadata": {},
   "outputs": [
    {
     "data": {
      "text/plain": [
       "True"
      ]
     },
     "execution_count": 182,
     "metadata": {},
     "output_type": "execute_result"
    }
   ],
   "source": [
    "'a' in s1"
   ]
  },
  {
   "cell_type": "code",
   "execution_count": 181,
   "id": "7a9390a9",
   "metadata": {},
   "outputs": [
    {
     "data": {
      "text/plain": [
       "False"
      ]
     },
     "execution_count": 181,
     "metadata": {},
     "output_type": "execute_result"
    }
   ],
   "source": [
    "'z' in s1"
   ]
  },
  {
   "cell_type": "code",
   "execution_count": 183,
   "id": "f21409f0",
   "metadata": {},
   "outputs": [
    {
     "data": {
      "text/plain": [
       "True"
      ]
     },
     "execution_count": 183,
     "metadata": {},
     "output_type": "execute_result"
    }
   ],
   "source": [
    "'z' not in s1"
   ]
  },
  {
   "cell_type": "code",
   "execution_count": 184,
   "id": "ee14df30",
   "metadata": {},
   "outputs": [],
   "source": [
    "# set comprehension"
   ]
  },
  {
   "cell_type": "code",
   "execution_count": 185,
   "id": "b8da30db",
   "metadata": {},
   "outputs": [
    {
     "data": {
      "text/plain": [
       "{1, 4, 9, 16, 25, 36, 49, 64, 81}"
      ]
     },
     "execution_count": 185,
     "metadata": {},
     "output_type": "execute_result"
    }
   ],
   "source": [
    "s1={i*i for i in range(1,10)}\n",
    "s1"
   ]
  },
  {
   "cell_type": "code",
   "execution_count": null,
   "id": "b16386ce",
   "metadata": {},
   "outputs": [],
   "source": [
    "student_info={}\n",
    "n=int(input(\"Enter number of students\"))\n",
    "i=1\n",
    "while i<=n:\n",
    "    name=input(\"Enter name :\")\n",
    "    marks=int(input(\"Enter marks :\"))\n",
    "    student_info[name]=marks\n",
    "    i=i+1\n",
    "print(student_info)"
   ]
  },
  {
   "cell_type": "code",
   "execution_count": 6,
   "id": "8cc41422",
   "metadata": {},
   "outputs": [
    {
     "data": {
      "text/plain": [
       "{'name': 'ram', 'age': 22}"
      ]
     },
     "execution_count": 6,
     "metadata": {},
     "output_type": "execute_result"
    }
   ],
   "source": [
    "d={'name':'ram','age':22}\n",
    "d"
   ]
  },
  {
   "cell_type": "code",
   "execution_count": 7,
   "id": "6d8587e2",
   "metadata": {},
   "outputs": [
    {
     "data": {
      "text/plain": [
       "'ram'"
      ]
     },
     "execution_count": 7,
     "metadata": {},
     "output_type": "execute_result"
    }
   ],
   "source": [
    "d.get('name')"
   ]
  },
  {
   "cell_type": "code",
   "execution_count": 8,
   "id": "1be664ae",
   "metadata": {},
   "outputs": [
    {
     "data": {
      "text/plain": [
       "dict_keys(['name', 'age'])"
      ]
     },
     "execution_count": 8,
     "metadata": {},
     "output_type": "execute_result"
    }
   ],
   "source": [
    "d.keys()"
   ]
  },
  {
   "cell_type": "code",
   "execution_count": 9,
   "id": "f6d3bfec",
   "metadata": {},
   "outputs": [
    {
     "data": {
      "text/plain": [
       "dict_values(['ram', 22])"
      ]
     },
     "execution_count": 9,
     "metadata": {},
     "output_type": "execute_result"
    }
   ],
   "source": [
    "d.values()"
   ]
  },
  {
   "cell_type": "code",
   "execution_count": 15,
   "id": "5225afe7",
   "metadata": {
    "scrolled": true
   },
   "outputs": [
    {
     "data": {
      "text/plain": [
       "{'name': 'jhon', 'age': 23}"
      ]
     },
     "execution_count": 15,
     "metadata": {},
     "output_type": "execute_result"
    }
   ],
   "source": [
    "d1={'name':'jhon','age':23}\n",
    "d2={'name':'dinga','age':24}\n",
    "d1"
   ]
  },
  {
   "cell_type": "code",
   "execution_count": 19,
   "id": "71d4315b",
   "metadata": {},
   "outputs": [
    {
     "ename": "TypeError",
     "evalue": "'type' object is not subscriptable",
     "output_type": "error",
     "traceback": [
      "\u001b[1;31m---------------------------------------------------------------------------\u001b[0m",
      "\u001b[1;31mTypeError\u001b[0m                                 Traceback (most recent call last)",
      "Cell \u001b[1;32mIn[19], line 1\u001b[0m\n\u001b[1;32m----> 1\u001b[0m d\u001b[38;5;241m=\u001b[39m\u001b[38;5;28;43mdict\u001b[39;49m\u001b[43m[\u001b[49m\u001b[43m(\u001b[49m\u001b[38;5;241;43m100\u001b[39;49m\u001b[43m,\u001b[49m\u001b[38;5;124;43m'\u001b[39;49m\u001b[38;5;124;43meswar\u001b[39;49m\u001b[38;5;124;43m'\u001b[39;49m\u001b[43m)\u001b[49m\u001b[43m,\u001b[49m\u001b[43m(\u001b[49m\u001b[38;5;241;43m101\u001b[39;49m\u001b[43m,\u001b[49m\u001b[38;5;124;43m'\u001b[39;49m\u001b[38;5;124;43mpraveen\u001b[39;49m\u001b[38;5;124;43m'\u001b[39;49m\u001b[43m)\u001b[49m\u001b[43m]\u001b[49m\n\u001b[0;32m      2\u001b[0m d1\u001b[38;5;241m=\u001b[39m{\u001b[38;5;241m103\u001b[39m:\u001b[38;5;124m'\u001b[39m\u001b[38;5;124mrakesh\u001b[39m\u001b[38;5;124m'\u001b[39m,\u001b[38;5;241m104\u001b[39m:\u001b[38;5;124m'\u001b[39m\u001b[38;5;124mvishnu\u001b[39m\u001b[38;5;124m'\u001b[39m}\n\u001b[0;32m      3\u001b[0m d\u001b[38;5;241m.\u001b[39mupdate(d1)\n",
      "\u001b[1;31mTypeError\u001b[0m: 'type' object is not subscriptable"
     ]
    }
   ],
   "source": [
    "d=dict[(100,'eswar'),(101,'praveen')]\n",
    "d1={103:'rakesh',104:'vishnu'}\n",
    "d.update(d1)\n",
    "d"
   ]
  },
  {
   "cell_type": "markdown",
   "id": "8d08396d",
   "metadata": {},
   "source": [
    "#  String operations"
   ]
  },
  {
   "cell_type": "code",
   "execution_count": 20,
   "id": "266ed06c",
   "metadata": {},
   "outputs": [
    {
     "data": {
      "text/plain": [
       "'H'"
      ]
     },
     "execution_count": 20,
     "metadata": {},
     "output_type": "execute_result"
    }
   ],
   "source": [
    "s1=\"Hello\"\n",
    "s1[0]"
   ]
  },
  {
   "cell_type": "code",
   "execution_count": 21,
   "id": "05c83f93",
   "metadata": {},
   "outputs": [
    {
     "data": {
      "text/plain": [
       "'l'"
      ]
     },
     "execution_count": 21,
     "metadata": {},
     "output_type": "execute_result"
    }
   ],
   "source": [
    "s1[-2]"
   ]
  },
  {
   "cell_type": "code",
   "execution_count": 22,
   "id": "61d3b0b3",
   "metadata": {},
   "outputs": [
    {
     "data": {
      "text/plain": [
       "'n is'"
      ]
     },
     "execution_count": 22,
     "metadata": {},
     "output_type": "execute_result"
    }
   ],
   "source": [
    "s2=\"Python is programming lang\"\n",
    "s2[5:9]"
   ]
  },
  {
   "cell_type": "code",
   "execution_count": 23,
   "id": "6fa2efe1",
   "metadata": {},
   "outputs": [
    {
     "name": "stdout",
     "output_type": "stream",
     "text": [
      "both are equal\n"
     ]
    }
   ],
   "source": [
    "s1=\"Java\"\n",
    "s2=\"Java\"\n",
    "if s1==s2:\n",
    "    print(\"both are equal\")"
   ]
  },
  {
   "cell_type": "code",
   "execution_count": 24,
   "id": "5b033bd3",
   "metadata": {},
   "outputs": [
    {
     "name": "stdout",
     "output_type": "stream",
     "text": [
      "   python    \n"
     ]
    }
   ],
   "source": [
    "s=\"   python    \"\n",
    "print(s)"
   ]
  },
  {
   "cell_type": "code",
   "execution_count": 25,
   "id": "31817148",
   "metadata": {},
   "outputs": [
    {
     "name": "stdout",
     "output_type": "stream",
     "text": [
      "   python\n"
     ]
    }
   ],
   "source": [
    "print(s.rstrip())"
   ]
  },
  {
   "cell_type": "code",
   "execution_count": 26,
   "id": "3f242e85",
   "metadata": {},
   "outputs": [
    {
     "name": "stdout",
     "output_type": "stream",
     "text": [
      "python    \n"
     ]
    }
   ],
   "source": [
    "print(s.lstrip())"
   ]
  },
  {
   "cell_type": "code",
   "execution_count": 27,
   "id": "76688e07",
   "metadata": {},
   "outputs": [
    {
     "name": "stdout",
     "output_type": "stream",
     "text": [
      "python\n"
     ]
    }
   ],
   "source": [
    "print(s.strip())"
   ]
  },
  {
   "cell_type": "code",
   "execution_count": 32,
   "id": "05554f74",
   "metadata": {},
   "outputs": [
    {
     "data": {
      "text/plain": [
       "3"
      ]
     },
     "execution_count": 32,
     "metadata": {},
     "output_type": "execute_result"
    }
   ],
   "source": [
    "say=\"good morning world\"\n",
    "say.find(\"d\")"
   ]
  },
  {
   "cell_type": "code",
   "execution_count": 33,
   "id": "ccdb82f8",
   "metadata": {},
   "outputs": [
    {
     "data": {
      "text/plain": [
       "5"
      ]
     },
     "execution_count": 33,
     "metadata": {},
     "output_type": "execute_result"
    }
   ],
   "source": [
    "say.index(\"morning\")"
   ]
  },
  {
   "cell_type": "code",
   "execution_count": 35,
   "id": "8c5c5e66",
   "metadata": {},
   "outputs": [
    {
     "name": "stdout",
     "output_type": "stream",
     "text": [
      "3\n",
      "17\n"
     ]
    }
   ],
   "source": [
    "print(say.find(\"d\"))\n",
    "print(say.rfind(\"d\"))"
   ]
  },
  {
   "cell_type": "code",
   "execution_count": 37,
   "id": "746d2303",
   "metadata": {},
   "outputs": [
    {
     "name": "stdout",
     "output_type": "stream",
     "text": [
      "3\n",
      "17\n"
     ]
    }
   ],
   "source": [
    "print(say.index(\"d\"))\n",
    "print(say.rindex(\"d\"))"
   ]
  },
  {
   "cell_type": "code",
   "execution_count": 39,
   "id": "88a9fa12",
   "metadata": {},
   "outputs": [
    {
     "name": "stdout",
     "output_type": "stream",
     "text": [
      "2\n"
     ]
    }
   ],
   "source": [
    "print(say.count(\"d\"))"
   ]
  },
  {
   "cell_type": "code",
   "execution_count": 41,
   "id": "7f14354f",
   "metadata": {},
   "outputs": [
    {
     "data": {
      "text/plain": [
       "0"
      ]
     },
     "execution_count": 41,
     "metadata": {},
     "output_type": "execute_result"
    }
   ],
   "source": [
    "say.count(\"good\",0,2)"
   ]
  },
  {
   "cell_type": "code",
   "execution_count": 42,
   "id": "ba0e522d",
   "metadata": {},
   "outputs": [
    {
     "data": {
      "text/plain": [
       "'good afternoon world'"
      ]
     },
     "execution_count": 42,
     "metadata": {},
     "output_type": "execute_result"
    }
   ],
   "source": [
    "say.replace(\"morning\",\"afternoon\")"
   ]
  },
  {
   "cell_type": "code",
   "execution_count": 43,
   "id": "1d2e6ec0",
   "metadata": {},
   "outputs": [
    {
     "data": {
      "text/plain": [
       "['good', 'morning', 'world']"
      ]
     },
     "execution_count": 43,
     "metadata": {},
     "output_type": "execute_result"
    }
   ],
   "source": [
    "say.split()"
   ]
  },
  {
   "cell_type": "code",
   "execution_count": 46,
   "id": "adc302a9",
   "metadata": {},
   "outputs": [
    {
     "data": {
      "text/plain": [
       "['good morning world']"
      ]
     },
     "execution_count": 46,
     "metadata": {},
     "output_type": "execute_result"
    }
   ],
   "source": [
    "say.split('?')"
   ]
  },
  {
   "cell_type": "code",
   "execution_count": 48,
   "id": "efbbb0e8",
   "metadata": {},
   "outputs": [
    {
     "data": {
      "text/plain": [
       "['hello world']"
      ]
     },
     "execution_count": 48,
     "metadata": {},
     "output_type": "execute_result"
    }
   ],
   "source": [
    "wish=\"hello world\"\n",
    "wish.split('?')"
   ]
  },
  {
   "cell_type": "code",
   "execution_count": 49,
   "id": "0882adad",
   "metadata": {},
   "outputs": [
    {
     "data": {
      "text/plain": [
       "'h_e_l_l_o_ _w_o_r_l_d'"
      ]
     },
     "execution_count": 49,
     "metadata": {},
     "output_type": "execute_result"
    }
   ],
   "source": [
    "\"_\".join(wish)"
   ]
  },
  {
   "cell_type": "code",
   "execution_count": 54,
   "id": "2506ad93",
   "metadata": {},
   "outputs": [
    {
     "name": "stdout",
     "output_type": "stream",
     "text": [
      "lowercase : good morning world\n",
      "Upper case : GOOD MORNING WORLD\n",
      "Swap case : GOOD MORNING WORLD\n",
      "Title : Good Morning World\n",
      "Good morning world\n"
     ]
    }
   ],
   "source": [
    "print(\"lowercase :\",wish.lower())\n",
    "print(\"Upper case :\",wish.upper())\n",
    "print(\"Swap case :\",wish.swapcase())\n",
    "print(\"Title :\",wish.title())\n",
    "print(wish.capitalize())\n"
   ]
  },
  {
   "cell_type": "markdown",
   "id": "7a90fe8b",
   "metadata": {},
   "source": [
    "# Palindrome"
   ]
  },
  {
   "cell_type": "code",
   "execution_count": 57,
   "id": "e87d28be",
   "metadata": {},
   "outputs": [
    {
     "name": "stdout",
     "output_type": "stream",
     "text": [
      "Enter strpk\n",
      "Not palindrome\n"
     ]
    }
   ],
   "source": [
    "str=input(\"Enter str\")\n",
    "if(str==str[::-1]):\n",
    "    print(\"palindrome\")\n",
    "else:\n",
    "    print(\"Not palindrome\")"
   ]
  },
  {
   "cell_type": "markdown",
   "id": "6d18323b",
   "metadata": {},
   "source": [
    "# Function"
   ]
  },
  {
   "cell_type": "code",
   "execution_count": 1,
   "id": "03cf0c9b",
   "metadata": {},
   "outputs": [
    {
     "name": "stdout",
     "output_type": "stream",
     "text": [
      "hello\n"
     ]
    }
   ],
   "source": [
    "def welcome():\n",
    "    print(\"hello\")\n",
    "\n",
    "welcome()"
   ]
  },
  {
   "cell_type": "code",
   "execution_count": 2,
   "id": "1d8ecbb6",
   "metadata": {},
   "outputs": [
    {
     "name": "stdout",
     "output_type": "stream",
     "text": [
      "name: ram\n"
     ]
    }
   ],
   "source": [
    "def student_name(name):\n",
    "    print(\"name:\",name)\n",
    "student_name(\"ram\")"
   ]
  },
  {
   "cell_type": "code",
   "execution_count": 4,
   "id": "0dfcd2d3",
   "metadata": {},
   "outputs": [
    {
     "name": "stdout",
     "output_type": "stream",
     "text": [
      "12\n",
      "8\n",
      "20\n",
      "5.0\n"
     ]
    }
   ],
   "source": [
    "def calculator(num1,num2):\n",
    "    add=num1+num2\n",
    "    sub=num1-num2\n",
    "    mul=num1*num2\n",
    "    div=num1/num2\n",
    "    print(add)\n",
    "    print(sub)\n",
    "    print(mul)\n",
    "    print(div)\n",
    "calculator(10,2)"
   ]
  },
  {
   "cell_type": "code",
   "execution_count": 5,
   "id": "e7e36882",
   "metadata": {},
   "outputs": [
    {
     "name": "stdout",
     "output_type": "stream",
     "text": [
      "12\n"
     ]
    }
   ],
   "source": [
    "#  function with return type\n",
    "\n",
    "def retu(num,num2):\n",
    "    add=num+num2\n",
    "    return add\n",
    "ret=retu(10,2)\n",
    "print(ret)"
   ]
  },
  {
   "cell_type": "code",
   "execution_count": 10,
   "id": "3a857a6e",
   "metadata": {},
   "outputs": [
    {
     "name": "stdout",
     "output_type": "stream",
     "text": [
      "svn colleage\n"
     ]
    }
   ],
   "source": [
    "# func without args with return type\n",
    "\n",
    "def colleageDetails():\n",
    "    info=\"svn colleage\"\n",
    "    return info\n",
    "cd=colleageDetails()\n",
    "print(cd)"
   ]
  },
  {
   "cell_type": "markdown",
   "id": "e10ff400",
   "metadata": {},
   "source": [
    "# Parameters\n"
   ]
  },
  {
   "cell_type": "code",
   "execution_count": 11,
   "id": "4e439652",
   "metadata": {},
   "outputs": [
    {
     "name": "stdout",
     "output_type": "stream",
     "text": [
      "10\n",
      "2\n"
     ]
    }
   ],
   "source": [
    "# positional arguments\n",
    "# keyword arguments\n",
    "# default arguments\n",
    "# variable length arguments\n",
    "\n",
    "def demo(a,b):\n",
    "    print(a)\n",
    "    print(b)\n",
    "demo(10,2)"
   ]
  },
  {
   "cell_type": "code",
   "execution_count": 12,
   "id": "c3f7acd9",
   "metadata": {},
   "outputs": [
    {
     "name": "stdout",
     "output_type": "stream",
     "text": [
      "12\n"
     ]
    }
   ],
   "source": [
    "def demo(a,b):\n",
    "    add=a+b\n",
    "    return add\n",
    "c=demo(10,2)\n",
    "print(c)"
   ]
  },
  {
   "cell_type": "code",
   "execution_count": 16,
   "id": "3836497a",
   "metadata": {},
   "outputs": [
    {
     "name": "stdout",
     "output_type": "stream",
     "text": [
      "30\n"
     ]
    }
   ],
   "source": [
    "def demo(a,b):\n",
    "    add=a+b\n",
    "    return add\n",
    "c=demo(10,20)\n",
    "print(c)\n"
   ]
  },
  {
   "cell_type": "code",
   "execution_count": 17,
   "id": "1cd2236b",
   "metadata": {},
   "outputs": [
    {
     "name": "stdout",
     "output_type": "stream",
     "text": [
      "a is : 2\n",
      "b is: 10\n",
      "c is: 30\n",
      "d is: 20\n"
     ]
    }
   ],
   "source": [
    "def demo2(a,b,c,d):\n",
    "    print(\"a is :\",a)\n",
    "    print(\"b is:\",b)\n",
    "    print(\"c is:\",c)\n",
    "    print(\"d is:\",d)\n",
    "demo2(a=2,b=10,c=30,d=20)"
   ]
  },
  {
   "cell_type": "code",
   "execution_count": 19,
   "id": "97ecce29",
   "metadata": {},
   "outputs": [
    {
     "name": "stdout",
     "output_type": "stream",
     "text": [
      "a is : 1\n",
      "b is: 2\n",
      "c is: 3\n",
      "d is: 4\n"
     ]
    }
   ],
   "source": [
    "def demo2(a,b,c,d):\n",
    "    print(\"a is :\",a)\n",
    "    print(\"b is:\",b)\n",
    "    print(\"c is:\",c)\n",
    "    print(\"d is:\",d)\n",
    "demo2(1,2,3,4)"
   ]
  },
  {
   "cell_type": "code",
   "execution_count": 21,
   "id": "a66a794a",
   "metadata": {},
   "outputs": [
    {
     "name": "stdout",
     "output_type": "stream",
     "text": [
      "1\n",
      "2\n",
      "0\n",
      "0\n"
     ]
    }
   ],
   "source": [
    "def display(a=0,b=0,c=0,d=0):\n",
    "    print(a)\n",
    "    print(b)\n",
    "    print(c)\n",
    "    print(d)\n",
    "display(1,2)"
   ]
  },
  {
   "cell_type": "code",
   "execution_count": 22,
   "id": "c88b977d",
   "metadata": {},
   "outputs": [
    {
     "name": "stdout",
     "output_type": "stream",
     "text": [
      "(1, 2)\n",
      "(3, 4, 5)\n"
     ]
    }
   ],
   "source": [
    "# variable length arguments\n",
    "def add(*n):\n",
    "    print(n)\n",
    "add(1,2)\n",
    "add(3,4,5)"
   ]
  },
  {
   "cell_type": "code",
   "execution_count": 24,
   "id": "27226631",
   "metadata": {},
   "outputs": [
    {
     "name": "stdout",
     "output_type": "stream",
     "text": [
      "(1, 2, 3, 4)\n",
      "10\n"
     ]
    }
   ],
   "source": [
    "def add(*n):\n",
    "    print(n)\n",
    "    sum=0\n",
    "    for i in n:\n",
    "        sum=sum+i\n",
    "    print(sum)\n",
    "add(1,2,3,4)"
   ]
  },
  {
   "cell_type": "code",
   "execution_count": 27,
   "id": "741c4d0a",
   "metadata": {},
   "outputs": [
    {
     "data": {
      "text/plain": [
       "6"
      ]
     },
     "execution_count": 27,
     "metadata": {},
     "output_type": "execute_result"
    }
   ],
   "source": [
    "# factorial \n",
    "def fact(n):\n",
    "    if n==1:\n",
    "        result=1\n",
    "    else:\n",
    "        result=n*fact(n-1)\n",
    "    return result\n",
    "fact(3)"
   ]
  },
  {
   "cell_type": "markdown",
   "id": "84c7d4bd",
   "metadata": {},
   "source": [
    "# lambda function"
   ]
  },
  {
   "cell_type": "code",
   "execution_count": 30,
   "id": "dce65b12",
   "metadata": {},
   "outputs": [
    {
     "data": {
      "text/plain": [
       "8"
      ]
     },
     "execution_count": 30,
     "metadata": {},
     "output_type": "execute_result"
    }
   ],
   "source": [
    "sub=lambda a,b:a-b\n",
    "sub(10,2)"
   ]
  },
  {
   "cell_type": "code",
   "execution_count": 32,
   "id": "67659f00",
   "metadata": {},
   "outputs": [
    {
     "data": {
      "text/plain": [
       "4"
      ]
     },
     "execution_count": 32,
     "metadata": {},
     "output_type": "execute_result"
    }
   ],
   "source": [
    "# Square of function\n",
    "sqr=lambda n:n*n\n",
    "sqr(2)"
   ]
  },
  {
   "cell_type": "code",
   "execution_count": 36,
   "id": "1eedf900",
   "metadata": {},
   "outputs": [
    {
     "data": {
      "text/plain": [
       "[1, 3, 5, 7]"
      ]
     },
     "execution_count": 36,
     "metadata": {},
     "output_type": "execute_result"
    }
   ],
   "source": [
    "# filter function\n",
    "# filter(func,sequence)\n",
    "l=[1,2,3,4,5,6,7]\n",
    "fil=list(filter(lambda v:v%2==1,l))\n",
    "fil"
   ]
  },
  {
   "cell_type": "markdown",
   "id": "9c2ae110",
   "metadata": {},
   "source": [
    "# variables"
   ]
  },
  {
   "cell_type": "code",
   "execution_count": 39,
   "id": "0cd73a76",
   "metadata": {},
   "outputs": [
    {
     "name": "stdout",
     "output_type": "stream",
     "text": [
      "10\n"
     ]
    }
   ],
   "source": [
    "# Local variable\n",
    "\n",
    "\n",
    "def f1():\n",
    "    a=10\n",
    "    print(a)\n",
    "def f2():\n",
    "    print(a)\n",
    "f1()\n",
    "# f2()"
   ]
  },
  {
   "cell_type": "code",
   "execution_count": 42,
   "id": "8c3701f7",
   "metadata": {},
   "outputs": [
    {
     "name": "stdout",
     "output_type": "stream",
     "text": [
      "10\n",
      "10\n"
     ]
    }
   ],
   "source": [
    "# global variable\n",
    "a=10\n",
    "def f1():\n",
    "    print(a)\n",
    "def f2():\n",
    "    print(a)\n",
    "f1()\n",
    "f2()"
   ]
  },
  {
   "cell_type": "code",
   "execution_count": 43,
   "id": "4f626ef1",
   "metadata": {},
   "outputs": [
    {
     "name": "stdout",
     "output_type": "stream",
     "text": [
      "20\n",
      "10\n"
     ]
    }
   ],
   "source": [
    "a=10\n",
    "def f1():\n",
    "    a=20\n",
    "    print(a)\n",
    "def f2():\n",
    "    print(a)\n",
    "f1()\n",
    "f2()"
   ]
  },
  {
   "cell_type": "markdown",
   "id": "a0100f42",
   "metadata": {},
   "source": [
    "# reduce function"
   ]
  },
  {
   "cell_type": "code",
   "execution_count": 46,
   "id": "a8dcaa46",
   "metadata": {},
   "outputs": [
    {
     "name": "stdout",
     "output_type": "stream",
     "text": [
      "37\n"
     ]
    }
   ],
   "source": [
    "from functools import *\n",
    "l=[12,3,4,5,6,7]\n",
    "li=reduce(lambda x,y:x+y,l)\n",
    "print(li)"
   ]
  },
  {
   "cell_type": "markdown",
   "id": "ae955623",
   "metadata": {},
   "source": [
    "# Map"
   ]
  },
  {
   "cell_type": "code",
   "execution_count": 47,
   "id": "2a0acb01",
   "metadata": {},
   "outputs": [
    {
     "name": "stdout",
     "output_type": "stream",
     "text": [
      "[1, 4, 9, 16, 25, 36]\n"
     ]
    }
   ],
   "source": [
    "l=[1,2,3,4,5,6]\n",
    "li=list(map(lambda x:x*x,l))\n",
    "print(li)"
   ]
  },
  {
   "cell_type": "markdown",
   "id": "1d50bd87",
   "metadata": {},
   "source": [
    "# function aliasing"
   ]
  },
  {
   "cell_type": "code",
   "execution_count": 50,
   "id": "c3206c46",
   "metadata": {},
   "outputs": [
    {
     "ename": "SyntaxError",
     "evalue": "unexpected EOF while parsing (2063805442.py, line 3)",
     "output_type": "error",
     "traceback": [
      "\u001b[1;36m  Cell \u001b[1;32mIn[50], line 3\u001b[1;36m\u001b[0m\n\u001b[1;33m    def add():\u001b[0m\n\u001b[1;37m              ^\u001b[0m\n\u001b[1;31mSyntaxError\u001b[0m\u001b[1;31m:\u001b[0m unexpected EOF while parsing\n"
     ]
    }
   ],
   "source": [
    "addition=add\n",
    "addition(1,2,3)\n",
    "def add():"
   ]
  },
  {
   "cell_type": "markdown",
   "id": "987db800",
   "metadata": {},
   "source": [
    "# Generator"
   ]
  },
  {
   "cell_type": "code",
   "execution_count": 52,
   "id": "20812142",
   "metadata": {},
   "outputs": [
    {
     "data": {
      "text/plain": [
       "generator"
      ]
     },
     "execution_count": 52,
     "metadata": {},
     "output_type": "execute_result"
    }
   ],
   "source": [
    "l=[1,2,3,4]\n",
    "t=(i for i in l)\n",
    "type(t)"
   ]
  },
  {
   "cell_type": "markdown",
   "id": "a0faf495",
   "metadata": {},
   "source": [
    "# yield"
   ]
  },
  {
   "cell_type": "code",
   "execution_count": 54,
   "id": "349b5606",
   "metadata": {},
   "outputs": [
    {
     "name": "stdout",
     "output_type": "stream",
     "text": [
      "<generator object my_generator at 0x0000027821787740>\n"
     ]
    },
    {
     "data": {
      "text/plain": [
       "generator"
      ]
     },
     "execution_count": 54,
     "metadata": {},
     "output_type": "execute_result"
    }
   ],
   "source": [
    "def my_generator():\n",
    "    yield 'A'\n",
    "    yield 'B'\n",
    "    yield 'c'\n",
    "g=my_generator()\n",
    "print(g)\n",
    "type(g)"
   ]
  },
  {
   "cell_type": "markdown",
   "id": "004b191f",
   "metadata": {},
   "source": [
    "#  class and object"
   ]
  },
  {
   "cell_type": "code",
   "execution_count": 2,
   "id": "b558d8b4",
   "metadata": {},
   "outputs": [
    {
     "name": "stdout",
     "output_type": "stream",
     "text": [
      "deva\n",
      "22\n",
      "male\n",
      "shannu\n",
      "23\n",
      "Male\n"
     ]
    }
   ],
   "source": [
    "class Student:\n",
    "    \"student class with student info\"\n",
    "    def getDetails(self,name,age,gen):\n",
    "        print(name)\n",
    "        print(age)\n",
    "        print(gen)\n",
    "s1=Student()\n",
    "s1.getDetails(\"deva\",22,\"male\")\n",
    "s2=Student()\n",
    "s2.getDetails(\"shannu\",23,\"Male\")"
   ]
  },
  {
   "cell_type": "markdown",
   "id": "7a076861",
   "metadata": {},
   "source": [
    "# Constructor"
   ]
  },
  {
   "cell_type": "code",
   "execution_count": 3,
   "id": "42136de3",
   "metadata": {},
   "outputs": [
    {
     "name": "stdout",
     "output_type": "stream",
     "text": [
      "Colleage Name : SVN\n",
      "Colleage Area : Kukatpally\n",
      "Colleage city : Hydrabad\n",
      "Colleage Name : Mvr\n",
      "Colleage Area : Kairathabad\n",
      "Colleage city : Hydrabad\n"
     ]
    }
   ],
   "source": [
    "class colleage:\n",
    "    def __init__(self,cname,carea,city):\n",
    "        self.cname=cname\n",
    "        self.carea=carea\n",
    "        self.city=city\n",
    "    def colleageDetails(self):\n",
    "        print(\"Colleage Name :\",self.cname)\n",
    "        print(\"Colleage Area :\",self.carea)\n",
    "        print(\"Colleage city :\",self.city)\n",
    "c1=colleage(\"SVN\",\"Kukatpally\",\"Hydrabad\")\n",
    "c1.colleageDetails()\n",
    "c2=colleage(\"Mvr\",\"Kairathabad\",\"Hydrabad\")\n",
    "c2.colleageDetails()"
   ]
  },
  {
   "cell_type": "code",
   "execution_count": 7,
   "id": "98aa1491",
   "metadata": {},
   "outputs": [
    {
     "name": "stdout",
     "output_type": "stream",
     "text": [
      "Enter the 1st number1\n",
      "Enter the 2nd number1\n",
      "1\n"
     ]
    }
   ],
   "source": [
    "# WAP to read 2 numbers and print minimum value\n",
    "num1=int(input(\"Enter the 1st number\"))\n",
    "num2=int(input(\"Enter the 2nd number\"))\n",
    "min=num1 if num1<num2 else num2\n",
    "print(min)"
   ]
  },
  {
   "cell_type": "code",
   "execution_count": 11,
   "id": "8e5d524e",
   "metadata": {},
   "outputs": [
    {
     "name": "stdout",
     "output_type": "stream",
     "text": [
      "Enter the num1 :3\n",
      "Enter the num2 :6\n",
      "Enter the num3 :12\n",
      "minimum number is : 3\n"
     ]
    }
   ],
   "source": [
    "# WAP to read 3 numbers and print the minimum value\n",
    " \n",
    "num1=int(input(\"Enter the num1 :\"))\n",
    "num2=int(input(\"Enter the num2 :\"))\n",
    "num3=int(input(\"Enter the num3 :\"))\n",
    "min=num1 if num1<num2 else num2 if num2<num3 else num3\n",
    "print(\"minimum number is :\",min)"
   ]
  },
  {
   "cell_type": "markdown",
   "id": "45b40a97",
   "metadata": {},
   "source": [
    "# Special operator"
   ]
  },
  {
   "cell_type": "code",
   "execution_count": 12,
   "id": "0b0d9cb9",
   "metadata": {},
   "outputs": [
    {
     "name": "stdout",
     "output_type": "stream",
     "text": [
      "False\n"
     ]
    }
   ],
   "source": [
    "# identity operator\n",
    "# is\n",
    "# is not\n",
    "\n",
    "a=10\n",
    "b=20\n",
    "print(a is b)"
   ]
  },
  {
   "cell_type": "code",
   "execution_count": 13,
   "id": "6178e90d",
   "metadata": {},
   "outputs": [
    {
     "name": "stdout",
     "output_type": "stream",
     "text": [
      "True\n"
     ]
    }
   ],
   "source": [
    "\n",
    "a=10\n",
    "b=20\n",
    "print(a is not b)"
   ]
  },
  {
   "cell_type": "code",
   "execution_count": 15,
   "id": "eac5a0e0",
   "metadata": {},
   "outputs": [
    {
     "data": {
      "text/plain": [
       "True"
      ]
     },
     "execution_count": 15,
     "metadata": {},
     "output_type": "execute_result"
    }
   ],
   "source": [
    "# membership operators\n",
    "# in\n",
    "# not in\n",
    "\n",
    "'H' in 'Hello'"
   ]
  },
  {
   "cell_type": "code",
   "execution_count": 16,
   "id": "7d36560d",
   "metadata": {},
   "outputs": [
    {
     "data": {
      "text/plain": [
       "False"
      ]
     },
     "execution_count": 16,
     "metadata": {},
     "output_type": "execute_result"
    }
   ],
   "source": [
    "'H' not in 'Hello'"
   ]
  },
  {
   "cell_type": "code",
   "execution_count": 17,
   "id": "e6a90548",
   "metadata": {},
   "outputs": [
    {
     "data": {
      "text/plain": [
       "True"
      ]
     },
     "execution_count": 17,
     "metadata": {},
     "output_type": "execute_result"
    }
   ],
   "source": [
    "5 in [1,2,3,4,5]"
   ]
  },
  {
   "cell_type": "code",
   "execution_count": 22,
   "id": "6d39d56b",
   "metadata": {},
   "outputs": [
    {
     "name": "stdout",
     "output_type": "stream",
     "text": [
      "Employee name : Viraj\n",
      "Employee age : 22\n",
      "Employee Salary : 20000\n",
      "Employee name : anadh\n",
      "Employee age : 22\n",
      "Employee Salary : 20000\n"
     ]
    }
   ],
   "source": [
    "# instance variables\n",
    "\n",
    "class employee:\n",
    "    def __init__(self,ename,eage,esal):\n",
    "        self.ename=ename\n",
    "        self.eage=eage\n",
    "        self.esal=esal\n",
    "    def employeeDetails(self):\n",
    "        print(\"Employee name :\",self.ename)\n",
    "        print(\"Employee age :\",self.eage)\n",
    "        print(\"Employee Salary :\",self.esal)\n",
    "e1=employee('Viraj','22',20000)\n",
    "e1.employeeDetails()\n",
    "\n",
    "# changing the employee details\n",
    "e1.ename=\"anadh\"\n",
    "e1.employeeDetails()"
   ]
  },
  {
   "cell_type": "code",
   "execution_count": 35,
   "id": "d0e91a69",
   "metadata": {},
   "outputs": [
    {
     "name": "stdout",
     "output_type": "stream",
     "text": [
      "mark\n",
      "22\n",
      "2000\n",
      "male\n"
     ]
    }
   ],
   "source": [
    "# Delete the instance variable\n",
    "class employee:\n",
    "    def __init__(self,name,sal,age,gen):\n",
    "        self.name=name\n",
    "        self.sal=sal\n",
    "        self.age=age\n",
    "        self.gen=gen\n",
    "    def employeeDetails(self):\n",
    "        print(self.name)\n",
    "        print(self.age)\n",
    "        print(self.sal)\n",
    "        print(self.gen)\n",
    "    def del_variable(self):\n",
    "        del self.gen\n",
    "e1=employee(\"mark\",2000,22,\"male\")\n",
    "e1.employeeDetails()\n",
    "e1.del_variable()"
   ]
  },
  {
   "cell_type": "code",
   "execution_count": 38,
   "id": "d7a94a84",
   "metadata": {},
   "outputs": [
    {
     "name": "stdout",
     "output_type": "stream",
     "text": [
      "Student name : Deva\n",
      "Student Age: 22\n",
      "Student Marks : 93\n",
      "Subject Name:  python\n"
     ]
    }
   ],
   "source": [
    "# Static subject name\n",
    "\n",
    "class Students:\n",
    "    sub_name=\"python\"\n",
    "    def __init__(self,name,age,marks):\n",
    "        self.name=name\n",
    "        self.age=age\n",
    "        self.marks=marks\n",
    "    def getStudents(self):\n",
    "        print(\"Student name :\",self.name)\n",
    "        print(\"Student Age:\",self.age)\n",
    "        print(\"Student Marks :\",self.marks)\n",
    "        print(\"Subject Name: \",self.sub_name)\n",
    "s1=Students(\"Deva\",22,93)\n",
    "s1.getStudents()"
   ]
  },
  {
   "cell_type": "markdown",
   "id": "1cd97839",
   "metadata": {},
   "source": [
    "# Static method"
   ]
  },
  {
   "cell_type": "code",
   "execution_count": 41,
   "id": "e3dd6c2d",
   "metadata": {},
   "outputs": [
    {
     "name": "stdout",
     "output_type": "stream",
     "text": [
      "sum is : 12\n"
     ]
    }
   ],
   "source": [
    "class static_method:\n",
    "    @staticmethod\n",
    "    def add(x,y):\n",
    "        print(\"sum is :\",x+y)\n",
    "s1=static_method\n",
    "s1.add(10,2)"
   ]
  },
  {
   "cell_type": "code",
   "execution_count": 42,
   "id": "5540e7a7",
   "metadata": {},
   "outputs": [
    {
     "name": "stdout",
     "output_type": "stream",
     "text": [
      "sum is : 50\n"
     ]
    }
   ],
   "source": [
    "# We can also access static method through class name\n",
    "\n",
    "class statics:\n",
    "    @staticmethod\n",
    "    def add(x,y):\n",
    "        print(\"sum is :\",x+y)\n",
    "statics.add(20,30)"
   ]
  },
  {
   "cell_type": "markdown",
   "id": "a512d818",
   "metadata": {},
   "source": [
    "# class method "
   ]
  },
  {
   "cell_type": "code",
   "execution_count": 44,
   "id": "1894c4ec",
   "metadata": {},
   "outputs": [
    {
     "name": "stdout",
     "output_type": "stream",
     "text": [
      "name is : eswar\n"
     ]
    }
   ],
   "source": [
    "class classmethodExample:\n",
    "    name=\"eswar\"\n",
    "    def __init__(self,sub):\n",
    "        self.sub=sub\n",
    "    @classmethod\n",
    "    def f1(cls):\n",
    "            print(\"name is :\",cls.name)\n",
    "c1=classmethodExample(\"Python\")\n",
    "c1.f1()"
   ]
  },
  {
   "cell_type": "code",
   "execution_count": 46,
   "id": "0dfcc0e9",
   "metadata": {},
   "outputs": [
    {
     "name": "stdout",
     "output_type": "stream",
     "text": [
      "Colleage Name : CBIT\n",
      "Colleage location : HYD\n",
      "Subject : Java\n"
     ]
    }
   ],
   "source": [
    "class classExample:\n",
    "    colleageName='CBIT'\n",
    "    loc='HYD'\n",
    "    def __init__(self,sub):\n",
    "        self.sub=sub\n",
    "    @classmethod    \n",
    "    def f1(cls):\n",
    "        print(\"Colleage Name :\",cls.colleageName)\n",
    "        print(\"Colleage location :\",cls.loc)\n",
    "    def f2(self):\n",
    "        print(\"Subject :\",self.sub)\n",
    "c1=classExample(\"Java\")\n",
    "classExample.f1()\n",
    "c1.f2()"
   ]
  },
  {
   "cell_type": "markdown",
   "id": "e59b6c13",
   "metadata": {},
   "source": [
    "#  garbage collector"
   ]
  },
  {
   "cell_type": "code",
   "execution_count": 52,
   "id": "894148c1",
   "metadata": {},
   "outputs": [
    {
     "name": "stdout",
     "output_type": "stream",
     "text": [
      "True\n",
      "None\n"
     ]
    }
   ],
   "source": [
    "import gc\n",
    "gc.enable\n",
    "print(gc.isenabled())\n",
    "print(gc.disable())"
   ]
  },
  {
   "cell_type": "markdown",
   "id": "5af8ac05",
   "metadata": {},
   "source": [
    "# Destructors"
   ]
  },
  {
   "cell_type": "code",
   "execution_count": 58,
   "id": "df1e9943",
   "metadata": {},
   "outputs": [],
   "source": [
    "class methodExample:\n",
    "    def __init(self,sub):\n",
    "        self.sub=sub\n",
    "    def __del__(self):\n",
    "        print(\"Object Destruction\")\n",
    "sub=classmethod(\"Python\")\n",
    "sub=None"
   ]
  },
  {
   "cell_type": "markdown",
   "id": "f440a53f",
   "metadata": {},
   "source": [
    "# Inheritance"
   ]
  },
  {
   "cell_type": "code",
   "execution_count": 62,
   "id": "24685c1c",
   "metadata": {},
   "outputs": [
    {
     "name": "stdout",
     "output_type": "stream",
     "text": [
      "child method\n",
      "parent method\n"
     ]
    }
   ],
   "source": [
    "# inheriting one class properties to another class\n",
    "class parent:\n",
    "    def parentMethod(self):\n",
    "        print(\"parent method\")\n",
    "class child(parent):\n",
    "    def childMethod(self):\n",
    "        print(\"child method\")\n",
    "c=child()\n",
    "c.childMethod()\n",
    "c.parentMethod()"
   ]
  },
  {
   "cell_type": "code",
   "execution_count": 67,
   "id": "c3e4bc4a",
   "metadata": {},
   "outputs": [
    {
     "name": "stdout",
     "output_type": "stream",
     "text": [
      "emp name is Deva\n",
      "Company name is Feuji\n",
      "Company Loc is Hydrabad\n",
      "Feuji has 5 branches\n",
      "---------------------------\n",
      "Feuji has 5 branches\n"
     ]
    }
   ],
   "source": [
    "# inheritance btn company and employee\n",
    "\n",
    "class company:\n",
    "    def company_details(self):\n",
    "        print(\"Company name is Feuji\")\n",
    "        print(\"Company Loc is Hydrabad\")\n",
    "    def company_policy(self):\n",
    "        print(\"Feuji has 5 branches\")\n",
    "class employee(company):\n",
    "    def emp_info(self):\n",
    "        print(\"emp name is Deva\")\n",
    "e1=employee()\n",
    "e1.emp_info()\n",
    "e1.company_details()\n",
    "e1.company_policy()\n",
    "\n",
    "print(\"---------------------------\")\n",
    "# creating object for parent\n",
    "\n",
    "c1=company()\n",
    "c1.company_policy()"
   ]
  },
  {
   "cell_type": "markdown",
   "id": "4206ac12",
   "metadata": {},
   "source": [
    "#  Multi-level inheritance"
   ]
  },
  {
   "cell_type": "code",
   "execution_count": 76,
   "id": "4c6c7ee4",
   "metadata": {},
   "outputs": [
    {
     "name": "stdout",
     "output_type": "stream",
     "text": [
      "Colleage Name is CBIT\n",
      "Colleage with A grade\n",
      "--------------------\n",
      "Colleage Name is CBIT\n",
      "Colleage with A grade\n",
      "Branch name is  Mechanical\n"
     ]
    }
   ],
   "source": [
    "class colleage:\n",
    "    def colleageDetails(self):\n",
    "        print(\"Colleage Name is CBIT\")\n",
    "        print(\"Colleage with A grade\")\n",
    "class Branch(colleage):\n",
    "    def branches(self):\n",
    "        print(\"Branch name is  Mechanical\")\n",
    "class CSE(Branch):\n",
    "    def std(self):\n",
    "        print(\"CSE branch has 60+ students\")\n",
    "\n",
    "c1=colleage()\n",
    "c1.colleageDetails()\n",
    "print(\"--------------------\")\n",
    "c2=CSE()\n",
    "c2.colleageDetails()\n",
    "c2.branches()"
   ]
  },
  {
   "cell_type": "markdown",
   "id": "f28933cf",
   "metadata": {},
   "source": [
    "# Multiple inheritance"
   ]
  },
  {
   "cell_type": "code",
   "execution_count": 79,
   "id": "3a1d81a5",
   "metadata": {},
   "outputs": [
    {
     "name": "stdout",
     "output_type": "stream",
     "text": [
      "Krupal airlines\n",
      "----------------------\n",
      "Trainee management\n",
      "Online Exam portal\n",
      "Krupal airlines\n"
     ]
    }
   ],
   "source": [
    "class project:\n",
    "    def project1(self):\n",
    "        print(\"Trainee management\")\n",
    "class project2:\n",
    "    def project2(self):\n",
    "        print(\"Online Exam portal\")\n",
    "class project3:\n",
    "    def project3(self):\n",
    "        print(\"Krupal airlines\")\n",
    "class teams(project,project2,project3):\n",
    "    def allprojects(self):\n",
    "        print(\"Projects Successfully completed\")\n",
    "p3=project3()\n",
    "p3.project3()\n",
    "\n",
    "print(\"----------------------\")\n",
    "\n",
    "t1=teams()\n",
    "t1.project1()\n",
    "t1.project2()\n",
    "t1.project3()"
   ]
  },
  {
   "cell_type": "markdown",
   "id": "dd0228c0",
   "metadata": {},
   "source": [
    "#  Heirarchical inheritance"
   ]
  },
  {
   "cell_type": "code",
   "execution_count": 84,
   "id": "0020b355",
   "metadata": {},
   "outputs": [
    {
     "name": "stdout",
     "output_type": "stream",
     "text": [
      "there are 10 branches\n",
      "-----------------------\n",
      "CIVIL has 20 people\n",
      "there are 10 branches\n"
     ]
    }
   ],
   "source": [
    "# Single parent has multiple childrens\n",
    "\n",
    "class Branch:\n",
    "    def branch_name(self):\n",
    "        print(\"there are 10 branches\")\n",
    "class CSE(Branch):\n",
    "    def cse(self):\n",
    "        print(\"CSE has 100 people\")\n",
    "class MECH(Branch):\n",
    "    def mech(self):\n",
    "        print('Mech has 35 people')\n",
    "class CIVIL(Branch):\n",
    "    def civil(self):\n",
    "        print(\"CIVIL has 20 people\")\n",
    "b1=Branch()\n",
    "b1.branch_name()\n",
    "print(\"-----------------------\")\n",
    "c1=CIVIL()\n",
    "c1.civil()\n",
    "c1.branch_name()"
   ]
  },
  {
   "cell_type": "markdown",
   "id": "5057efbd",
   "metadata": {},
   "source": [
    "#  Hybrid Inheritance"
   ]
  },
  {
   "cell_type": "code",
   "execution_count": 85,
   "id": "f9c66480",
   "metadata": {},
   "outputs": [],
   "source": [
    "# it is the combination of multiple types of inheritance\n",
    "#  it is combination if 2 or more types of inheritance"
   ]
  },
  {
   "cell_type": "code",
   "execution_count": 89,
   "id": "af7eb356",
   "metadata": {},
   "outputs": [
    {
     "name": "stdout",
     "output_type": "stream",
     "text": [
      "Colleage Name is CBIT\n",
      "-------------------------\n",
      "Colleage Name is CBIT\n"
     ]
    }
   ],
   "source": [
    "class colleage:\n",
    "    def colleageName(self):\n",
    "        print(\"Colleage Name is CBIT\")\n",
    "class Branch(colleage):\n",
    "    def branch(self):\n",
    "        print(\"Branch name is Mechanical\")\n",
    "class CSE(Branch):\n",
    "    def cse(self):\n",
    "        print(\"It is CSE branch\")\n",
    "class MECH(Branch):\n",
    "    def mech(self):\n",
    "        print(\"it is mechanical branch\")\n",
    "class ECE(Branch):\n",
    "    def ece(self):\n",
    "        print(\"it is mechanical branch\")\n",
    "e1=ECE()\n",
    "e1.colleageName()\n",
    "print(\"-------------------------\")\n",
    "b1=Branch()\n",
    "b1.colleageName()"
   ]
  },
  {
   "cell_type": "markdown",
   "id": "3d798a81",
   "metadata": {},
   "source": [
    "# Polymorphism"
   ]
  },
  {
   "cell_type": "code",
   "execution_count": 1,
   "id": "74b1ccf5",
   "metadata": {},
   "outputs": [],
   "source": [
    "# single entity having multiple forms is know as polymorphism\n",
    "# there 2 types of polymorphism\n",
    "# i)overloading\n",
    "# ii)overriding\n",
    "# in overloading we have 3 types \n",
    "# i)operator overloading\n",
    "# ii)method overloading\n",
    "# iii) constructor overloading\n",
    "\n",
    "# in overriding we have 2 types\n",
    "# i)method overriding\n",
    "# ii) constructor overriding\n",
    "\n"
   ]
  },
  {
   "cell_type": "markdown",
   "id": "7ee4d0ea",
   "metadata": {},
   "source": [
    "#  Operator overloading"
   ]
  },
  {
   "cell_type": "code",
   "execution_count": 5,
   "id": "3555042b",
   "metadata": {},
   "outputs": [
    {
     "name": "stdout",
     "output_type": "stream",
     "text": [
      "30\n"
     ]
    }
   ],
   "source": [
    "class operatorOvearloading:\n",
    "    def __init__(self,pages):\n",
    "        self.pages=pages\n",
    "    def __add__(self,other):\n",
    "        return self.pages+other.pages\n",
    "o1=operatorOvearloading(10)\n",
    "o2=operatorOvearloading(20)\n",
    "print(o1+o2)"
   ]
  },
  {
   "cell_type": "code",
   "execution_count": 15,
   "id": "dcee88c1",
   "metadata": {},
   "outputs": [
    {
     "name": "stdout",
     "output_type": "stream",
     "text": [
      "200\n"
     ]
    }
   ],
   "source": [
    "class demo:\n",
    "    def __init__(self,num):\n",
    "        self.num=num\n",
    "    def __mul__(self,other):\n",
    "        return self.num*other.num\n",
    "d1=demo(10)\n",
    "d2=demo(20)\n",
    "print(d1*d2)"
   ]
  },
  {
   "cell_type": "markdown",
   "id": "ef9f7147",
   "metadata": {},
   "source": [
    "#  method overloading"
   ]
  },
  {
   "cell_type": "code",
   "execution_count": 17,
   "id": "0ec9c881",
   "metadata": {},
   "outputs": [
    {
     "name": "stdout",
     "output_type": "stream",
     "text": [
      "100\n"
     ]
    }
   ],
   "source": [
    "class overloading:\n",
    "    def add(self,a,b):\n",
    "        print(a+b)\n",
    "    def add(self,a,b,c):\n",
    "        print(a+b+c)\n",
    "    def add(self,a,b,c,d):\n",
    "        print(a+b+c+d)\n",
    "o1=overloading()\n",
    "o1.add(10,20,30,40)"
   ]
  },
  {
   "cell_type": "code",
   "execution_count": 19,
   "id": "233dc057",
   "metadata": {},
   "outputs": [
    {
     "name": "stdout",
     "output_type": "stream",
     "text": [
      "60\n"
     ]
    }
   ],
   "source": [
    "# example 2\n",
    "\n",
    "class overloading2:\n",
    "    def add(self,a=0,b=0):\n",
    "        print(a+b)\n",
    "    def add(self,a=0,b=0,c=0):\n",
    "        print(a+b+c)\n",
    "    def add(self,a=0,b=0,c=0,d=0):\n",
    "        print(a+b+c+d)\n",
    "        \n",
    "o1=overloading2()\n",
    "o1.add(10,20,30)"
   ]
  },
  {
   "cell_type": "code",
   "execution_count": 21,
   "id": "172d6db4",
   "metadata": {},
   "outputs": [
    {
     "name": "stdout",
     "output_type": "stream",
     "text": [
      "(10, 20, 30, 40)\n",
      "10\n",
      "30\n",
      "60\n",
      "100\n"
     ]
    }
   ],
   "source": [
    "# variable length parameter\n",
    "class methodOverloading:\n",
    "    def add(self,*n):\n",
    "        print(n)\n",
    "        sum=0\n",
    "        for i in n:\n",
    "            sum=sum+i\n",
    "            print(sum)\n",
    "m1=methodOverloading()\n",
    "m1.add(10,20,30,40)"
   ]
  },
  {
   "cell_type": "markdown",
   "id": "56412352",
   "metadata": {},
   "source": [
    "#  Constructor overloading"
   ]
  },
  {
   "cell_type": "code",
   "execution_count": 22,
   "id": "03f68cb3",
   "metadata": {},
   "outputs": [
    {
     "ename": "TypeError",
     "evalue": "__init__() missing 2 required positional arguments: 'c' and 'd'",
     "output_type": "error",
     "traceback": [
      "\u001b[1;31m---------------------------------------------------------------------------\u001b[0m",
      "\u001b[1;31mTypeError\u001b[0m                                 Traceback (most recent call last)",
      "Cell \u001b[1;32mIn[22], line 14\u001b[0m\n\u001b[0;32m     12\u001b[0m         \u001b[38;5;28mprint\u001b[39m(c)\n\u001b[0;32m     13\u001b[0m         \u001b[38;5;28mprint\u001b[39m(d)\n\u001b[1;32m---> 14\u001b[0m c\u001b[38;5;241m=\u001b[39m\u001b[43mconstructorOverloading\u001b[49m\u001b[43m(\u001b[49m\u001b[38;5;241;43m10\u001b[39;49m\u001b[43m,\u001b[49m\u001b[38;5;241;43m20\u001b[39;49m\u001b[43m)\u001b[49m\n",
      "\u001b[1;31mTypeError\u001b[0m: __init__() missing 2 required positional arguments: 'c' and 'd'"
     ]
    }
   ],
   "source": [
    "class constructorOverloading:\n",
    "    def __init__(self,a,b):\n",
    "        print(a)\n",
    "        print(b)\n",
    "    def __init__(self,a,b,c):\n",
    "        print(a)\n",
    "        print(b)\n",
    "        print(c)\n",
    "    def __init__(self,a,b,c,d):\n",
    "        print(a)\n",
    "        print(b)\n",
    "        print(c)\n",
    "        print(d)\n",
    "c=constructorOverloading(10,20)"
   ]
  },
  {
   "cell_type": "code",
   "execution_count": 23,
   "id": "8f63a769",
   "metadata": {},
   "outputs": [
    {
     "name": "stdout",
     "output_type": "stream",
     "text": [
      "10\n",
      "20\n",
      "0\n",
      "0\n"
     ]
    }
   ],
   "source": [
    "# for this error we use variable length parameters\n",
    "\n",
    "class constructorOverloading2:\n",
    "    def __init__(self,a=0,b=0):\n",
    "        print(a)\n",
    "        print(b)\n",
    "    def __init__(self,a=0,b=0,c=0):\n",
    "        print(a)\n",
    "        print(b)\n",
    "        print(c)\n",
    "    def __init__(self,a=0,b=0,c=0,d=0):\n",
    "        print(a)\n",
    "        print(b)\n",
    "        print(c)\n",
    "        print(d)\n",
    "        \n",
    "c1=constructorOverloading2(10,20)"
   ]
  },
  {
   "cell_type": "code",
   "execution_count": 27,
   "id": "1ddc474d",
   "metadata": {},
   "outputs": [
    {
     "name": "stdout",
     "output_type": "stream",
     "text": [
      "10\n",
      "20\n",
      "30\n"
     ]
    }
   ],
   "source": [
    "# variable length parameter\n",
    "\n",
    "class variableLength:\n",
    "    def __init__(self,*n):\n",
    "         for i in n:\n",
    "                print(i)\n",
    "c=variableLength(10,20,30)"
   ]
  },
  {
   "cell_type": "markdown",
   "id": "387b7dbf",
   "metadata": {},
   "source": [
    "#  Overriding"
   ]
  },
  {
   "cell_type": "code",
   "execution_count": 28,
   "id": "29fec80d",
   "metadata": {},
   "outputs": [],
   "source": [
    "# overriding parent method logic in child class is called overriding\n",
    "# there are 2 types of overriding\n",
    "# i) method overriding\n",
    "# ii) constructor overriding\n"
   ]
  },
  {
   "cell_type": "code",
   "execution_count": 31,
   "id": "244a9805",
   "metadata": {},
   "outputs": [
    {
     "name": "stdout",
     "output_type": "stream",
     "text": [
      "Colleage name is CBIT\n",
      "Colleage loc is HYD\n",
      "-------------------\n",
      "Colleage name is SVN\n",
      "Colleage loc is HYD\n"
     ]
    }
   ],
   "source": [
    "class colleage:\n",
    "    def colleageDetails(self):\n",
    "        print(\"Colleage name is CBIT\")\n",
    "        print(\"Colleage loc is HYD\")\n",
    "class Student(colleage):\n",
    "    def colleageDetails(self):\n",
    "        print(\"Colleage name is SVN\")\n",
    "        print(\"Colleage loc is HYD\")\n",
    "c1=colleage()\n",
    "c1.colleageDetails()\n",
    "print(\"-------------------\")\n",
    "\n",
    "s1=Student()\n",
    "s1.colleageDetails()"
   ]
  },
  {
   "cell_type": "code",
   "execution_count": 32,
   "id": "588951b2",
   "metadata": {},
   "outputs": [],
   "source": [
    "# by default it is losing parent class properties \n",
    "# to get parent class properties we use super()\n"
   ]
  },
  {
   "cell_type": "code",
   "execution_count": 34,
   "id": "4793080f",
   "metadata": {},
   "outputs": [
    {
     "name": "stdout",
     "output_type": "stream",
     "text": [
      "hello\n",
      "world\n",
      "ABC\n"
     ]
    }
   ],
   "source": [
    "class colleage:\n",
    "    def colleageDetails(self):\n",
    "        print(\"hello\")\n",
    "        print(\"world\")\n",
    "class demo(colleage):\n",
    "    def details(self):\n",
    "        super().colleageDetails()\n",
    "        print(\"ABC\")\n",
    "c1=demo()\n",
    "c1.details()"
   ]
  },
  {
   "cell_type": "markdown",
   "id": "9fe60401",
   "metadata": {},
   "source": [
    "#  Constructor Overriding"
   ]
  },
  {
   "cell_type": "code",
   "execution_count": 41,
   "id": "e7140ad3",
   "metadata": {},
   "outputs": [
    {
     "name": "stdout",
     "output_type": "stream",
     "text": [
      "Student Name : Rahul\n",
      "Student Age: 22\n",
      "Colleage Name : CBIT\n",
      "Colleage Loc : HYD\n"
     ]
    }
   ],
   "source": [
    "class colleage:\n",
    "    def __init__(self,cname,cloc):\n",
    "        self.cname=cname\n",
    "        self.cloc=cloc\n",
    "    def getDetails(self):\n",
    "        print(\"Colleage name :\",self.cname)\n",
    "        print(\"Colleage loc:\",self.cloc)\n",
    "class student(colleage):\n",
    "    def __init__(self,sname,sage,cname,cloc):\n",
    "        super().__init__(cname,cloc)\n",
    "        self.sname=sname\n",
    "        self.sage=sage\n",
    "    def getStudentDetails(self):\n",
    "        print(\"Student Name :\",self.sname)\n",
    "        print(\"Student Age:\",self.sage)\n",
    "        print(\"Colleage Name :\",self.cname)\n",
    "        print(\"Colleage Loc :\",self.cloc)\n",
    "s1=student(\"Rahul\",22,\"CBIT\",\"HYD\")\n",
    "s1.getStudentDetails()"
   ]
  },
  {
   "cell_type": "markdown",
   "id": "23d85eb8",
   "metadata": {},
   "source": []
  },
  {
   "cell_type": "markdown",
   "id": "91459550",
   "metadata": {},
   "source": [
    "# Abstraction"
   ]
  },
  {
   "cell_type": "code",
   "execution_count": 3,
   "id": "b865b5ae",
   "metadata": {},
   "outputs": [
    {
     "name": "stdout",
     "output_type": "stream",
     "text": [
      "Bank name is : Andhra Bank\n",
      "Bank loc is : Vzg\n",
      "Amount is : 1000\n"
     ]
    }
   ],
   "source": [
    "from abc import *\n",
    "class Bank:\n",
    "    @abstractmethod\n",
    "    def bank_details(self,bname,bloc):\n",
    "        pass\n",
    "    @abstractmethod\n",
    "    def withdraw(self,amnt):\n",
    "        pass\n",
    "class HDFC(Bank):\n",
    "    def bank_details(self,bname,bloc):\n",
    "        print(\"Bank name is :\",bname)\n",
    "        print(\"Bank loc is :\",bloc)\n",
    "    def withdraw(self,amnt):\n",
    "        print(\"Amount is :\",amnt)\n",
    "h1=HDFC()\n",
    "h1.bank_details(\"Andhra Bank\",\"Vzg\")\n",
    "h1.withdraw(1000)"
   ]
  },
  {
   "cell_type": "markdown",
   "id": "c27102ed",
   "metadata": {},
   "source": [
    "# Interface"
   ]
  },
  {
   "cell_type": "code",
   "execution_count": 10,
   "id": "55c0ff93",
   "metadata": {},
   "outputs": [
    {
     "name": "stdout",
     "output_type": "stream",
     "text": [
      "Manage name is : Vishwak\n",
      "Manager loc is: Hydrabad\n",
      "Manager role in Project Tester\n"
     ]
    }
   ],
   "source": [
    "# A class with all abstract methods is know as interface\n",
    "\n",
    "class demo:\n",
    "    @abstractmethod\n",
    "    def manager_info(self,mname,mloc):\n",
    "        pass\n",
    "    @abstractmethod\n",
    "    def manager_role(self,mrole):\n",
    "        pass\n",
    "class demo2(demo):\n",
    "    def manager_info(self,mname,mloc):\n",
    "            print(\"Manage name is :\",mname)\n",
    "            print(\"Manager loc is:\",mloc)\n",
    "    def manager_role(self,mrole):\n",
    "        print(\"Manager role in Project\",mrole)\n",
    "d=demo2()\n",
    "d.manager_info(\"Vishwak\",\"Hydrabad\")\n",
    "d.manager_role(\"Tester\")"
   ]
  },
  {
   "cell_type": "markdown",
   "id": "86221b10",
   "metadata": {},
   "source": [
    "# Encapsulation"
   ]
  },
  {
   "cell_type": "code",
   "execution_count": 11,
   "id": "b1f5d854",
   "metadata": {},
   "outputs": [
    {
     "name": "stdout",
     "output_type": "stream",
     "text": [
      "name of the Student is: Jeeva\n",
      "Age of the Student is : 22\n"
     ]
    }
   ],
   "source": [
    "class Student:\n",
    "    def __init__(self,name,age):\n",
    "        self.__name=name\n",
    "        self.__age=age\n",
    "    def display(self):\n",
    "        print(\"name of the Student is:\",self.__name)\n",
    "        print(\"Age of the Student is :\",self.__age)\n",
    "s=Student(\"Jeeva\",22)\n",
    "s.display()"
   ]
  },
  {
   "cell_type": "markdown",
   "id": "16f55d1d",
   "metadata": {},
   "source": [
    "#  DB connection"
   ]
  },
  {
   "cell_type": "code",
   "execution_count": 3,
   "id": "58668b6a",
   "metadata": {},
   "outputs": [
    {
     "name": "stdout",
     "output_type": "stream",
     "text": [
      "Table created Successfully\n"
     ]
    }
   ],
   "source": [
    "import sqlite3\n",
    "conn=sqlite3.connect(\"student.db\")\n",
    "sql=\"create table student(stdid INT PRIMERY KEY NOT NULL,stdName TEXT NOT NULL,stdMarks INT NOT NULL)\"\n",
    "\n",
    "conn.execute(sql)\n",
    "conn.commit()\n",
    "conn.close()\n",
    "print(\"Table created Successfully\")"
   ]
  },
  {
   "cell_type": "code",
   "execution_count": 4,
   "id": "6f1de6e3",
   "metadata": {},
   "outputs": [
    {
     "name": "stdout",
     "output_type": "stream",
     "text": [
      "Record inserted Successfully\n"
     ]
    }
   ],
   "source": [
    "import sqlite3\n",
    "conn=sqlite3.connect(\"student.db\")\n",
    "sql=\"insert into student (stdid,stdName,stdMarks) values(1,'shiva',96)\"\n",
    "conn.execute(sql)\n",
    "conn.commit()\n",
    "conn.close()\n",
    "print(\"Record inserted Successfully\")"
   ]
  },
  {
   "cell_type": "markdown",
   "id": "af96616f",
   "metadata": {},
   "source": [
    "# Inserting Multiple records"
   ]
  },
  {
   "cell_type": "code",
   "execution_count": 10,
   "id": "5621c393",
   "metadata": {},
   "outputs": [
    {
     "name": "stdout",
     "output_type": "stream",
     "text": [
      "Record inserted Successfully\n"
     ]
    }
   ],
   "source": [
    "import sqlite3\n",
    "conn=sqlite3.connect(\"student.db\")\n",
    "val=[(2,\"Hari\",70),(3,\"Ivan\",65)]\n",
    "sql=\"insert into student(stdid,stdName,stdMarks) values (?,?,?)\"\n",
    "conn.executemany(sql,val)\n",
    "conn.commit()\n",
    "conn.close()\n",
    "print(\"Record inserted Successfully\")"
   ]
  },
  {
   "cell_type": "code",
   "execution_count": 18,
   "id": "f5e3a6f8",
   "metadata": {},
   "outputs": [
    {
     "name": "stdout",
     "output_type": "stream",
     "text": [
      "student id : 1 student Name: shiva student Marks: 96\n",
      "student id : 2 student Name: Hari student Marks: 70\n"
     ]
    }
   ],
   "source": [
    "import sqlite3\n",
    "conn=sqlite3.connect(\"student.db\")\n",
    "cursor=conn.execute(\"select * from student\")\n",
    "for row in cursor.fetchall():\n",
    "    print('student id :',row[0],\n",
    "         'student Name:',row[1],\n",
    "         'student Marks:',row[2])\n",
    "cursor.close()\n",
    "conn.close()"
   ]
  },
  {
   "cell_type": "markdown",
   "id": "071e2ae7",
   "metadata": {},
   "source": [
    "#  Fetching particular records"
   ]
  },
  {
   "cell_type": "code",
   "execution_count": 15,
   "id": "0d202b36",
   "metadata": {},
   "outputs": [
    {
     "name": "stdout",
     "output_type": "stream",
     "text": [
      "student id: 1 student Name: shiva student Marks: 96\n",
      "student id: 2 student Name: Hari student Marks: 70\n"
     ]
    }
   ],
   "source": [
    "import sqlite3\n",
    "conn=sqlite3.connect(\"student.db\")\n",
    "cursor=conn.execute(\"select * from student\")\n",
    "for row in cursor.fetchmany(2):\n",
    "    print(\"student id:\",row[0],\n",
    "         \"student Name:\",row[1],\n",
    "         \"student Marks:\",row[2])\n",
    "cursor.close()\n",
    "conn.close()"
   ]
  },
  {
   "cell_type": "markdown",
   "id": "e24096a4",
   "metadata": {},
   "source": [
    "#  Delete Record"
   ]
  },
  {
   "cell_type": "code",
   "execution_count": 19,
   "id": "ce7c0551",
   "metadata": {},
   "outputs": [
    {
     "name": "stdout",
     "output_type": "stream",
     "text": [
      "Deleted Successfully\n"
     ]
    }
   ],
   "source": [
    "import sqlite3\n",
    "conn=sqlite3.connect(\"student.db\")\n",
    "sql=\"delete from student where stdid=3\"\n",
    "cur=conn.cursor()\n",
    "cur.execute(sql)\n",
    "conn.commit()\n",
    "conn.close()\n",
    "conn.close()\n",
    "print(\"Deleted Successfully\")"
   ]
  },
  {
   "cell_type": "markdown",
   "id": "615c6cb9",
   "metadata": {},
   "source": [
    "# Update record"
   ]
  },
  {
   "cell_type": "code",
   "execution_count": 20,
   "id": "88dc0eb4",
   "metadata": {},
   "outputs": [
    {
     "name": "stdout",
     "output_type": "stream",
     "text": [
      "Record Updated Successfully\n"
     ]
    }
   ],
   "source": [
    "import sqlite3\n",
    "conn=sqlite3.connect(\"student.db\")\n",
    "cur=conn.cursor()\n",
    "sql=\"update student set stdName='viraj' where stdid=1\"\n",
    "cur.execute(sql)\n",
    "conn.commit()\n",
    "cur.close()\n",
    "conn.close()\n",
    "print(\"Record Updated Successfully\")"
   ]
  },
  {
   "cell_type": "code",
   "execution_count": null,
   "id": "70aaaf36",
   "metadata": {},
   "outputs": [],
   "source": []
  }
 ],
 "metadata": {
  "kernelspec": {
   "display_name": "Python 3 (ipykernel)",
   "language": "python",
   "name": "python3"
  },
  "language_info": {
   "codemirror_mode": {
    "name": "ipython",
    "version": 3
   },
   "file_extension": ".py",
   "mimetype": "text/x-python",
   "name": "python",
   "nbconvert_exporter": "python",
   "pygments_lexer": "ipython3",
   "version": "3.10.7"
  }
 },
 "nbformat": 4,
 "nbformat_minor": 5
}
