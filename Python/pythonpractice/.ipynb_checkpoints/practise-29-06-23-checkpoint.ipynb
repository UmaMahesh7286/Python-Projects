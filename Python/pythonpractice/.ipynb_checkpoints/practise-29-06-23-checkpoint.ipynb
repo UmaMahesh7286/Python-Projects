{
 "cells": [
  {
   "cell_type": "code",
   "execution_count": 12,
   "id": "05437c8f",
   "metadata": {},
   "outputs": [
    {
     "name": "stdout",
     "output_type": "stream",
     "text": [
      "python version\n",
      "3.10.7 (tags/v3.10.7:6cc6b13, Sep  5 2022, 14:08:36) [MSC v.1933 64 bit (AMD64)]\n",
      "python version info\n",
      "sys.version_info(major=3, minor=10, micro=7, releaselevel='final', serial=0)\n"
     ]
    }
   ],
   "source": [
    "import sys\n",
    "print(\"python version\")\n",
    "print(sys.version)\n",
    "print(\"python version_info\")\n",
    "print(sys.version_info)"
   ]
  },
  {
   "cell_type": "code",
   "execution_count": 9,
   "id": "68be92a4",
   "metadata": {},
   "outputs": [
    {
     "name": "stdout",
     "output_type": "stream",
     "text": [
      "hello i am uma mahesh \n",
      "\t from vijayawada\n",
      "\t\t i like travelling\n"
     ]
    }
   ],
   "source": [
    "print(\"hello i am uma mahesh \\n\\t from vijayawada \\n\\t\\t i like travelling\")"
   ]
  },
  {
   "cell_type": "code",
   "execution_count": 31,
   "id": "c917ff81",
   "metadata": {},
   "outputs": [
    {
     "name": "stdout",
     "output_type": "stream",
     "text": [
      "23-06-29 -today date\n",
      "2023-06-29 16:25:34 today date and time\n"
     ]
    }
   ],
   "source": [
    "import datetime\n",
    "now=datetime.datetime.now()\n",
    "print(now.strftime(\"%y-%m-%d\"),\"-today date\")\n",
    "print (now.strftime(\"%Y-%m-%d %H:%M:%S\"),\"today date and time\")"
   ]
  },
  {
   "cell_type": "code",
   "execution_count": 32,
   "id": "55f58dfa",
   "metadata": {},
   "outputs": [
    {
     "name": "stdout",
     "output_type": "stream",
     "text": [
      "radius of the circle : 5\n",
      "the area of the cicle with radius 5.0is : 31.41592653589793\n"
     ]
    }
   ],
   "source": [
    "from math import pi\n",
    "r=float(input(\"radius of the circle : \"))\n",
    "print(\"the area of the cicle with radius \"+ str(r)+\"is : \"+str(pi*r*2))"
   ]
  },
  {
   "cell_type": "code",
   "execution_count": null,
   "id": "1de7dbc3",
   "metadata": {},
   "outputs": [],
   "source": [
    "values=input(\"input some numbers : \")\n",
    "list=values.split(\",\")\n",
    "tuple=tuple(list)\n",
    "print('List :',list)\n",
    "print('Tuple :',tuple)\n"
   ]
  },
  {
   "cell_type": "code",
   "execution_count": null,
   "id": "2f54ba54",
   "metadata": {},
   "outputs": [],
   "source": []
  }
 ],
 "metadata": {
  "kernelspec": {
   "display_name": "Python 3 (ipykernel)",
   "language": "python",
   "name": "python3"
  },
  "language_info": {
   "codemirror_mode": {
    "name": "ipython",
    "version": 3
   },
   "file_extension": ".py",
   "mimetype": "text/x-python",
   "name": "python",
   "nbconvert_exporter": "python",
   "pygments_lexer": "ipython3",
   "version": "3.10.7"
  }
 },
 "nbformat": 4,
 "nbformat_minor": 5
}
