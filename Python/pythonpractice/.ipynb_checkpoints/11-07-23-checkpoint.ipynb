{
 "cells": [
  {
   "cell_type": "code",
   "execution_count": 110,
   "id": "9dc21a61",
   "metadata": {},
   "outputs": [
    {
     "name": "stdout",
     "output_type": "stream",
     "text": [
      "enter the string:-malayalam\n",
      "malayalam  is palindrome\n"
     ]
    }
   ],
   "source": [
    "val=input(\"enter the string:-\")\n",
    "reverse=\"\"\n",
    "for i in range(len(val)-1,-1,-1):\n",
    "    reverse=reverse+val[i]\n",
    "if(reverse.upper()==val.upper()):\n",
    "    print(val,\" is palindrome\")\n",
    "else:\n",
    "    print(val,\" is not palindrome\")"
   ]
  },
  {
   "cell_type": "code",
   "execution_count": null,
   "id": "f03eae7f",
   "metadata": {},
   "outputs": [],
   "source": [
    "s=input(\"enter the string :-\")\n",
    "if(s==s[::-1]):\n",
    "    print(s, \" is palindrome\")\n",
    "else:\n",
    "    print(s,\" is not palindrome\")"
   ]
  },
  {
   "cell_type": "code",
   "execution_count": 115,
   "id": "0c3e6e5e",
   "metadata": {},
   "outputs": [
    {
     "name": "stdout",
     "output_type": "stream",
     "text": [
      "enter the list of elements['mom','hi','kook']\n",
      "<class 'list'>\n",
      "MOM  is palindrome\n",
      "HI  not palindrome\n",
      "KOOK  is palindrome\n"
     ]
    }
   ],
   "source": [
    "arr=eval(input(\"enter the list of elements\"))\n",
    "arr2=len(arr)\n",
    "\n",
    "print(type(arr))\n",
    "for m in range(len(arr)):\n",
    "    s=arr[m].upper()\n",
    "    if(s==s[::-1]):\n",
    "        print(s,\" is palindrome\")\n",
    "    else:\n",
    "        print(s, \" not palindrome\")       "
   ]
  },
  {
   "cell_type": "code",
   "execution_count": 118,
   "id": "d363e630",
   "metadata": {},
   "outputs": [
    {
     "data": {
      "text/plain": [
       "566"
      ]
     },
     "execution_count": 118,
     "metadata": {},
     "output_type": "execute_result"
    }
   ],
   "source": [
    "import random\n",
    "otp=random.randint(100,999)\n",
    "otp"
   ]
  },
  {
   "cell_type": "code",
   "execution_count": null,
   "id": "83bcaea3",
   "metadata": {},
   "outputs": [],
   "source": []
  }
 ],
 "metadata": {
  "kernelspec": {
   "display_name": "Python 3 (ipykernel)",
   "language": "python",
   "name": "python3"
  },
  "language_info": {
   "codemirror_mode": {
    "name": "ipython",
    "version": 3
   },
   "file_extension": ".py",
   "mimetype": "text/x-python",
   "name": "python",
   "nbconvert_exporter": "python",
   "pygments_lexer": "ipython3",
   "version": "3.10.7"
  }
 },
 "nbformat": 4,
 "nbformat_minor": 5
}
