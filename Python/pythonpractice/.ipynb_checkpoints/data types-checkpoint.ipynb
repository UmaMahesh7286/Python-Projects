{
 "cells": [
  {
   "cell_type": "code",
   "execution_count": 16,
   "id": "ea7d2ca6",
   "metadata": {},
   "outputs": [
    {
     "name": "stdout",
     "output_type": "stream",
     "text": [
      "<class 'str'>\n",
      "<class 'str'>\n",
      "l\n",
      "hello wo\n",
      "11\n"
     ]
    }
   ],
   "source": [
    "# string data type we can use single or double quotes\n",
    "a='hello world'\n",
    "print(type(a))\n",
    "b=\"hii\"\n",
    "print(type(a))\n",
    "print(a[2])\n",
    "print(a[0:8])\n",
    "print(len(a))"
   ]
  },
  {
   "cell_type": "code",
   "execution_count": 33,
   "id": "e87853d7",
   "metadata": {},
   "outputs": [
    {
     "name": "stdout",
     "output_type": "stream",
     "text": [
      "{'aa', 'cd', 'cc', 'bb'}\n",
      "<class 'set'>\n"
     ]
    },
    {
     "data": {
      "text/plain": [
       "{'aa', 'bb', 'cc', 'cd', 'dd'}"
      ]
     },
     "execution_count": 33,
     "metadata": {},
     "output_type": "execute_result"
    }
   ],
   "source": [
    "# set data type we have to use curly brackets doesn't allow duplicates \n",
    "li={'aa','bb','cc','aa','cd'}\n",
    "print(li)\n",
    "print(type(li))\n",
    "li.add('dd')\n",
    "li"
   ]
  },
  {
   "cell_type": "code",
   "execution_count": 31,
   "id": "fa2ba620",
   "metadata": {},
   "outputs": [
    {
     "name": "stdout",
     "output_type": "stream",
     "text": [
      "['11', 'fe', 'hi', 1324]\n",
      "<class 'list'>\n",
      "hi\n"
     ]
    }
   ],
   "source": [
    "# list data type we have to use square brackets\n",
    "lia=['11',\"fe\",\"hi\",1324]\n",
    "print(lia)\n",
    "print(type(lia))\n",
    "print(lia[2])"
   ]
  },
  {
   "cell_type": "code",
   "execution_count": 43,
   "id": "c36b2bab",
   "metadata": {},
   "outputs": [
    {
     "name": "stdout",
     "output_type": "stream",
     "text": [
      "{'name': 'mahesh', 'age': '22'}\n",
      "dict_values(['mahesh', '22'])\n",
      "dict_keys(['name', 'age'])\n"
     ]
    }
   ],
   "source": [
    "# dictionary -it stores like a map key and value we have to use curly brackets and assign the key with value by collan(\":\")\n",
    "dic={'name':'mahesh','age':'22'}\n",
    "print(dic)\n",
    "print(dic.values())\n",
    "print(dic.keys())"
   ]
  },
  {
   "cell_type": "code",
   "execution_count": 38,
   "id": "e43a2981",
   "metadata": {},
   "outputs": [
    {
     "name": "stdout",
     "output_type": "stream",
     "text": [
      "('11', 'aaa', 'bbs')\n",
      "<class 'tuple'>\n",
      "aaa\n"
     ]
    }
   ],
   "source": [
    "# tuple is immutable we can't change values and  'tuple' object does not support item assignment(reassign) we have to use ()\n",
    "aa=('11','aaa','bbs')\n",
    "print(aa)\n",
    "print(type(aa))\n",
    "print(aa[1])\n",
    "# aa[1]='bbb'\n",
    "# aa.add('hello')"
   ]
  },
  {
   "cell_type": "code",
   "execution_count": 3,
   "id": "8ef59b02",
   "metadata": {},
   "outputs": [
    {
     "name": "stdout",
     "output_type": "stream",
     "text": [
      "Color.red\n",
      "Color.red\n",
      "Color.red\n",
      "<enum 'Color'>\n"
     ]
    },
    {
     "data": {
      "text/plain": [
       "[<Color.red: 11>, <Color.blue: 'bag'>]"
      ]
     },
     "execution_count": 3,
     "metadata": {},
     "output_type": "execute_result"
    }
   ],
   "source": [
    "from enum import Enum\n",
    "class Color(Enum):\n",
    "    red=11\n",
    "    blue='bag'\n",
    "print(Color.red)\n",
    "print(Color['red'])\n",
    "print(Color(11))\n",
    "print(Color)\n",
    "[c for c in Color]"
   ]
  },
  {
   "cell_type": "code",
   "execution_count": 15,
   "id": "91d8b62c",
   "metadata": {},
   "outputs": [
    {
     "name": "stdout",
     "output_type": "stream",
     "text": [
      "enter the number57\n",
      "57 not prime\n"
     ]
    }
   ],
   "source": [
    "a=int(input(\"enter the number\"))\n",
    "b=True\n",
    "for i in range(2,(a//2)+1):\n",
    "    if(a%i==0):\n",
    "        b=False\n",
    "        break\n",
    "if(b):\n",
    "    print(a,\"prime\")\n",
    "else:\n",
    "    print(a,\"not prime\")        "
   ]
  },
  {
   "cell_type": "code",
   "execution_count": 33,
   "id": "8f1718e1",
   "metadata": {},
   "outputs": [
    {
     "name": "stdout",
     "output_type": "stream",
     "text": [
      "1 prime\n",
      "2 prime\n",
      "3 prime\n",
      "4 not prime\n",
      "5 prime\n",
      "6 not prime\n",
      "7 prime\n",
      "8 not prime\n",
      "9 not prime\n",
      "10 not prime\n",
      "11 prime\n",
      "12 not prime\n",
      "13 prime\n",
      "14 not prime\n",
      "15 not prime\n",
      "16 not prime\n",
      "17 prime\n",
      "18 not prime\n",
      "19 prime\n"
     ]
    }
   ],
   "source": [
    "class Prime:\n",
    "    def method(self,num):\n",
    "        b=True\n",
    "        for a in range(2,(num//2)+1):\n",
    "            if(num%a==0):\n",
    "                b=False\n",
    "                break\n",
    "        if(b):\n",
    "            print(num,\"prime\")\n",
    "        else:\n",
    "            print(num,\"not prime\")\n",
    "p =Prime()\n",
    "for i in range(1,20):\n",
    "    p.method(i)"
   ]
  },
  {
   "cell_type": "code",
   "execution_count": null,
   "id": "6ac8e496",
   "metadata": {},
   "outputs": [],
   "source": []
  },
  {
   "cell_type": "code",
   "execution_count": null,
   "id": "3af1d4dc",
   "metadata": {},
   "outputs": [],
   "source": []
  }
 ],
 "metadata": {
  "kernelspec": {
   "display_name": "Python 3 (ipykernel)",
   "language": "python",
   "name": "python3"
  },
  "language_info": {
   "codemirror_mode": {
    "name": "ipython",
    "version": 3
   },
   "file_extension": ".py",
   "mimetype": "text/x-python",
   "name": "python",
   "nbconvert_exporter": "python",
   "pygments_lexer": "ipython3",
   "version": "3.10.7"
  }
 },
 "nbformat": 4,
 "nbformat_minor": 5
}
