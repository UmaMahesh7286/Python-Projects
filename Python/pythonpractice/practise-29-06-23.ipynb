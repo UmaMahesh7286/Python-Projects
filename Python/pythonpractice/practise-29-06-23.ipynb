{
 "cells": [
  {
   "cell_type": "code",
   "execution_count": 12,
   "id": "d87f75f5",
   "metadata": {},
   "outputs": [
    {
     "name": "stdout",
     "output_type": "stream",
     "text": [
      "python version\n",
      "3.10.7 (tags/v3.10.7:6cc6b13, Sep  5 2022, 14:08:36) [MSC v.1933 64 bit (AMD64)]\n",
      "python version info\n",
      "sys.version_info(major=3, minor=10, micro=7, releaselevel='final', serial=0)\n"
     ]
    }
   ],
   "source": [
    "import sys\n",
    "print(\"python version\")\n",
    "print(sys.version)\n",
    "print(\"python version_info\")\n",
    "print(sys.version_info)"
   ]
  },
  {
   "cell_type": "code",
   "execution_count": 9,
   "id": "09f38e2c",
   "metadata": {},
   "outputs": [
    {
     "name": "stdout",
     "output_type": "stream",
     "text": [
      "hello i am uma mahesh \n",
      "\t from vijayawada\n",
      "\t\t i like travelling\n"
     ]
    }
   ],
   "source": [
    "print(\"hello i am uma mahesh \\n\\t from vijayawada \\n\\t\\t i like travelling\")"
   ]
  },
  {
   "cell_type": "code",
   "execution_count": 31,
   "id": "78ed6e4f",
   "metadata": {},
   "outputs": [
    {
     "name": "stdout",
     "output_type": "stream",
     "text": [
      "23-06-29 -today date\n",
      "2023-06-29 16:25:34 today date and time\n"
     ]
    }
   ],
   "source": [
    "import datetime\n",
    "now=datetime.datetime.now()\n",
    "print(now.strftime(\"%y-%m-%d\"),\"-today date\")\n",
    "print (now.strftime(\"%Y-%m-%d %H:%M:%S\"),\"today date and time\")"
   ]
  },
  {
   "cell_type": "code",
   "execution_count": 32,
   "id": "1fcd07a1",
   "metadata": {},
   "outputs": [
    {
     "name": "stdout",
     "output_type": "stream",
     "text": [
      "radius of the circle : 5\n",
      "the area of the cicle with radius 5.0is : 31.41592653589793\n"
     ]
    }
   ],
   "source": [
    "from math import pi\n",
    "r=float(input(\"radius of the circle : \"))\n",
    "print(\"the area of the cicle with radius \"+ str(r)+\"is : \"+str(pi*r*2))"
   ]
  },
  {
   "cell_type": "code",
   "execution_count": 63,
   "id": "d7308ac9",
   "metadata": {},
   "outputs": [
    {
     "name": "stdout",
     "output_type": "stream",
     "text": [
      "Input some comma seprated numbers : 1,2,44,53,4\n",
      "list : ['1', '2', '44', '53', '4']\n",
      "1 -- 4\n"
     ]
    }
   ],
   "source": [
    "values = input(\"Input some comma seprated numbers : \")\n",
    "list1 = values.split(\",\")\n",
    "print(\"list :\",list1)\n",
    "print(list1[0],\"--\",list1[-1]) #first index and last index values"
   ]
  },
  {
   "cell_type": "code",
   "execution_count": 66,
   "id": "be4ef26f",
   "metadata": {},
   "outputs": [
    {
     "name": "stdout",
     "output_type": "stream",
     "text": [
      "Return the absolute value of the argument.\n"
     ]
    }
   ],
   "source": [
    "print(abs.__doc__)"
   ]
  },
  {
   "cell_type": "code",
   "execution_count": 74,
   "id": "43c9b81b",
   "metadata": {},
   "outputs": [
    {
     "name": "stdout",
     "output_type": "stream",
     "text": [
      "enter the year : 2023\n",
      "enter the month : 12\n",
      "   December 2023\n",
      "Mo Tu We Th Fr Sa Su\n",
      "             1  2  3\n",
      " 4  5  6  7  8  9 10\n",
      "11 12 13 14 15 16 17\n",
      "18 19 20 21 22 23 24\n",
      "25 26 27 28 29 30 31\n",
      "\n"
     ]
    }
   ],
   "source": [
    "import calendar\n",
    "y=int(input(\"enter the year : \"))\n",
    "m=int(input(\"enter the month : \"))\n",
    "print(calendar.month(y,m))\n"
   ]
  },
  {
   "cell_type": "code",
   "execution_count": 75,
   "id": "cf0da6da",
   "metadata": {},
   "outputs": [
    {
     "name": "stdout",
     "output_type": "stream",
     "text": [
      "\n",
      "a string that you \"don't\" have to escape\n",
      "This\n",
      "is a  ....... multi-line\n",
      "heredoc string --------> example\n",
      "\n"
     ]
    }
   ],
   "source": [
    "print(\"\"\"\n",
    "a string that you \"don't\" have to escape\n",
    "This\n",
    "is a  ....... multi-line\n",
    "heredoc string --------> example\n",
    "\"\"\")"
   ]
  },
  {
   "cell_type": "code",
   "execution_count": 81,
   "id": "090b9ac3",
   "metadata": {},
   "outputs": [
    {
     "name": "stdout",
     "output_type": "stream",
     "text": [
      "165 days to go to your birthday\n"
     ]
    }
   ],
   "source": [
    "from datetime import date\n",
    "f_date=date(2023,6,29)\n",
    "l_date=date(2023,12,11)\n",
    "aa=l_date-f_date\n",
    "print(aa.days,\"days to go to your birthday\")"
   ]
  },
  {
   "cell_type": "code",
   "execution_count": 86,
   "id": "354ce8af",
   "metadata": {},
   "outputs": [
    {
     "name": "stdout",
     "output_type": "stream",
     "text": [
      "enter the number : 1\n"
     ]
    }
   ],
   "source": [
    "val=int(input(\"enter the number : \"))\n"
   ]
  },
  {
   "cell_type": "code",
   "execution_count": null,
   "id": "daedb2e9",
   "metadata": {},
   "outputs": [],
   "source": []
  }
 ],
 "metadata": {
  "kernelspec": {
   "display_name": "Python 3 (ipykernel)",
   "language": "python",
   "name": "python3"
  },
  "language_info": {
   "codemirror_mode": {
    "name": "ipython",
    "version": 3
   },
   "file_extension": ".py",
   "mimetype": "text/x-python",
   "name": "python",
   "nbconvert_exporter": "python",
   "pygments_lexer": "ipython3",
   "version": "3.10.7"
  }
 },
 "nbformat": 4,
 "nbformat_minor": 5
}
